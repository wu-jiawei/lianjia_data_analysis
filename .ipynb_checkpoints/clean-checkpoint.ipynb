{
 "cells": [
  {
   "cell_type": "code",
   "execution_count": 1,
   "metadata": {},
   "outputs": [],
   "source": [
    "import pandas as pd\n",
    "import matplotlib.pyplot as plt\n",
    "import seaborn as sns\n",
    "import numpy as np\n",
    "from scipy.stats import norm\n",
    "from sklearn.preprocessing import StandardScaler\n",
    "from scipy import stats\n",
    "import warnings\n",
    "warnings.filterwarnings('ignore')\n",
    "%matplotlib inline"
   ]
  },
  {
   "cell_type": "code",
   "execution_count": 2,
   "metadata": {},
   "outputs": [],
   "source": [
    "base_path = './lianjia_data/'\n"
   ]
  },
  {
   "cell_type": "code",
   "execution_count": 3,
   "metadata": {},
   "outputs": [
    {
     "name": "stderr",
     "output_type": "stream",
     "text": [
      "b'Skipping line 90: expected 7 fields, saw 10\\n'\n"
     ]
    }
   ],
   "source": [
    "# 试着读取一个csv文件\n",
    "baoshandahuaDF = pd.read_csv(base_path+'baoshan_dahua.csv', header=None,\n",
    "                             error_bad_lines=False, warn_bad_lines=True)"
   ]
  },
  {
   "cell_type": "code",
   "execution_count": 4,
   "metadata": {},
   "outputs": [
    {
     "data": {
      "text/html": [
       "<div>\n",
       "<style scoped>\n",
       "    .dataframe tbody tr th:only-of-type {\n",
       "        vertical-align: middle;\n",
       "    }\n",
       "\n",
       "    .dataframe tbody tr th {\n",
       "        vertical-align: top;\n",
       "    }\n",
       "\n",
       "    .dataframe thead th {\n",
       "        text-align: right;\n",
       "    }\n",
       "</style>\n",
       "<table border=\"1\" class=\"dataframe\">\n",
       "  <thead>\n",
       "    <tr style=\"text-align: right;\">\n",
       "      <th></th>\n",
       "      <th>0</th>\n",
       "      <th>1</th>\n",
       "      <th>2</th>\n",
       "      <th>3</th>\n",
       "      <th>4</th>\n",
       "      <th>5</th>\n",
       "      <th>6</th>\n",
       "    </tr>\n",
       "  </thead>\n",
       "  <tbody>\n",
       "    <tr>\n",
       "      <td>0</td>\n",
       "      <td>20200208</td>\n",
       "      <td>宝山</td>\n",
       "      <td>大华</td>\n",
       "      <td>近小区花园位置   满五唯一   户型正气必看好房</td>\n",
       "      <td>460万</td>\n",
       "      <td>2室2厅 | 88.38平米 | 南 北 | 精装 | 中楼层(共6层) | 2002年建 ...</td>\n",
       "      <td>https://image1.ljcdn.com/310000-inspection/pro...</td>\n",
       "    </tr>\n",
       "    <tr>\n",
       "      <td>1</td>\n",
       "      <td>20200208</td>\n",
       "      <td>宝山</td>\n",
       "      <td>大华</td>\n",
       "      <td>2002年电梯两房，户型好，采光好，近地铁，产权清晰必看好房</td>\n",
       "      <td>535万</td>\n",
       "      <td>2室2厅 | 95.11平米 | 南 | 简装 | 低楼层(共11层) | 2004年建 | 板楼</td>\n",
       "      <td>https://image1.ljcdn.com/310000-inspection/pro...</td>\n",
       "    </tr>\n",
       "    <tr>\n",
       "      <td>2</td>\n",
       "      <td>20200208</td>\n",
       "      <td>宝山</td>\n",
       "      <td>大华</td>\n",
       "      <td>文华苑四期三房，顶楼复式，单价四万四必看好房</td>\n",
       "      <td>499万</td>\n",
       "      <td>3室2厅 | 113.34平米 | 南 北 | 毛坯 | 高楼层(共6层) | 1999年建...</td>\n",
       "      <td>https://image1.ljcdn.com/310000-inspection/pc1...</td>\n",
       "    </tr>\n",
       "  </tbody>\n",
       "</table>\n",
       "</div>"
      ],
      "text/plain": [
       "          0   1   2                               3     4  \\\n",
       "0  20200208  宝山  大华       近小区花园位置   满五唯一   户型正气必看好房  460万   \n",
       "1  20200208  宝山  大华  2002年电梯两房，户型好，采光好，近地铁，产权清晰必看好房  535万   \n",
       "2  20200208  宝山  大华          文华苑四期三房，顶楼复式，单价四万四必看好房  499万   \n",
       "\n",
       "                                                   5  \\\n",
       "0  2室2厅 | 88.38平米 | 南 北 | 精装 | 中楼层(共6层) | 2002年建 ...   \n",
       "1  2室2厅 | 95.11平米 | 南 | 简装 | 低楼层(共11层) | 2004年建 | 板楼   \n",
       "2  3室2厅 | 113.34平米 | 南 北 | 毛坯 | 高楼层(共6层) | 1999年建...   \n",
       "\n",
       "                                                   6  \n",
       "0  https://image1.ljcdn.com/310000-inspection/pro...  \n",
       "1  https://image1.ljcdn.com/310000-inspection/pro...  \n",
       "2  https://image1.ljcdn.com/310000-inspection/pc1...  "
      ]
     },
     "execution_count": 4,
     "metadata": {},
     "output_type": "execute_result"
    }
   ],
   "source": [
    "baoshandahuaDF.head(3)"
   ]
  },
  {
   "cell_type": "code",
   "execution_count": 5,
   "metadata": {},
   "outputs": [],
   "source": [
    "# 存储全部数据\n",
    "data = pd.DataFrame()"
   ]
  },
  {
   "cell_type": "code",
   "execution_count": 8,
   "metadata": {},
   "outputs": [],
   "source": [
    "# 读取所有数据并合并为一个表格\n",
    "import os\n",
    "files = os.listdir(base_path)\n",
    "for file in files:\n",
    "    file_path = os.path.join(base_path, file)\n",
    "    if os.path.isfile(file_path) and os.stat(file_path).st_size != 0:\n",
    "        tmp_df = pd.read_csv(os.path.join(base_path, file), header=None, \n",
    "                             error_bad_lines=False, warn_bad_lines=False)\n",
    "        dist_name = file.split('_')[0]\n",
    "        town_name = file.split('_')[1][:-4]\n",
    "        tmp_df.iloc[:, 1] = dist_name\n",
    "        tmp_df.iloc[:, 2] = town_name\n",
    "        data = pd.concat([data, tmp_df], axis=0).reset_index(drop=True)\n",
    "        \n",
    "    "
   ]
  },
  {
   "cell_type": "code",
   "execution_count": 9,
   "metadata": {},
   "outputs": [
    {
     "data": {
      "text/plain": [
       "(16206, 8)"
      ]
     },
     "execution_count": 9,
     "metadata": {},
     "output_type": "execute_result"
    }
   ],
   "source": [
    "data.shape"
   ]
  },
  {
   "cell_type": "code",
   "execution_count": 10,
   "metadata": {
    "scrolled": true
   },
   "outputs": [
    {
     "data": {
      "text/html": [
       "<div>\n",
       "<style scoped>\n",
       "    .dataframe tbody tr th:only-of-type {\n",
       "        vertical-align: middle;\n",
       "    }\n",
       "\n",
       "    .dataframe tbody tr th {\n",
       "        vertical-align: top;\n",
       "    }\n",
       "\n",
       "    .dataframe thead th {\n",
       "        text-align: right;\n",
       "    }\n",
       "</style>\n",
       "<table border=\"1\" class=\"dataframe\">\n",
       "  <thead>\n",
       "    <tr style=\"text-align: right;\">\n",
       "      <th></th>\n",
       "      <th>0</th>\n",
       "      <th>1</th>\n",
       "      <th>2</th>\n",
       "      <th>3</th>\n",
       "      <th>4</th>\n",
       "      <th>5</th>\n",
       "      <th>6</th>\n",
       "      <th>7</th>\n",
       "    </tr>\n",
       "  </thead>\n",
       "  <tbody>\n",
       "    <tr>\n",
       "      <td>0</td>\n",
       "      <td>20200208</td>\n",
       "      <td>xuhui</td>\n",
       "      <td>kangjian</td>\n",
       "      <td>中间楼层，欧式装修，全明边套净收眼底必看好房</td>\n",
       "      <td>375万</td>\n",
       "      <td>2室0厅 | 53.92平米 | 南 | 精装 | 中楼层(共4层) | 1992年建 | 板楼</td>\n",
       "      <td>https://image1.ljcdn.com/310000-inspection/pc1...</td>\n",
       "      <td>NaN</td>\n",
       "    </tr>\n",
       "    <tr>\n",
       "      <td>1</td>\n",
       "      <td>20200208</td>\n",
       "      <td>xuhui</td>\n",
       "      <td>kangjian</td>\n",
       "      <td>花苑村紫竹园 2室1厅 468万必看好房</td>\n",
       "      <td>468万</td>\n",
       "      <td>2室1厅 | 67.11平米 | 南 | 简装 | 6层 | 1990年建 | 板楼</td>\n",
       "      <td>https://image1.ljcdn.com/310000-inspection/pc1...</td>\n",
       "      <td>NaN</td>\n",
       "    </tr>\n",
       "    <tr>\n",
       "      <td>2</td>\n",
       "      <td>20200208</td>\n",
       "      <td>xuhui</td>\n",
       "      <td>kangjian</td>\n",
       "      <td>南北两房全明户型采光充足 近上海南站地铁站 诚售。必看好房</td>\n",
       "      <td>468万</td>\n",
       "      <td>2室1厅 | 68.03平米 | 南 | 精装 | 低楼层(共6层) | 1991年建 | 板楼</td>\n",
       "      <td>https://image1.ljcdn.com/310000-inspection/pc1...</td>\n",
       "      <td>NaN</td>\n",
       "    </tr>\n",
       "  </tbody>\n",
       "</table>\n",
       "</div>"
      ],
      "text/plain": [
       "          0      1         2                              3     4  \\\n",
       "0  20200208  xuhui  kangjian         中间楼层，欧式装修，全明边套净收眼底必看好房  375万   \n",
       "1  20200208  xuhui  kangjian           花苑村紫竹园 2室1厅 468万必看好房  468万   \n",
       "2  20200208  xuhui  kangjian  南北两房全明户型采光充足 近上海南站地铁站 诚售。必看好房  468万   \n",
       "\n",
       "                                                  5  \\\n",
       "0  2室0厅 | 53.92平米 | 南 | 精装 | 中楼层(共4层) | 1992年建 | 板楼   \n",
       "1        2室1厅 | 67.11平米 | 南 | 简装 | 6层 | 1990年建 | 板楼   \n",
       "2  2室1厅 | 68.03平米 | 南 | 精装 | 低楼层(共6层) | 1991年建 | 板楼   \n",
       "\n",
       "                                                   6    7  \n",
       "0  https://image1.ljcdn.com/310000-inspection/pc1...  NaN  \n",
       "1  https://image1.ljcdn.com/310000-inspection/pc1...  NaN  \n",
       "2  https://image1.ljcdn.com/310000-inspection/pc1...  NaN  "
      ]
     },
     "execution_count": 10,
     "metadata": {},
     "output_type": "execute_result"
    }
   ],
   "source": [
    "# 比最开始的试读数据多一列\n",
    "data.head(3)"
   ]
  },
  {
   "cell_type": "code",
   "execution_count": 11,
   "metadata": {},
   "outputs": [
    {
     "data": {
      "text/plain": [
       "16198"
      ]
     },
     "execution_count": 11,
     "metadata": {},
     "output_type": "execute_result"
    }
   ],
   "source": [
    "# 看看最后一列有多少数据\n",
    "data.iloc[:, 7].isnull().sum()"
   ]
  },
  {
   "cell_type": "code",
   "execution_count": 12,
   "metadata": {},
   "outputs": [],
   "source": [
    "# 最后一列只有几个数据，丢弃, 倒数第二列是图片url，也丢弃\n",
    "data.drop([6, 7], axis=1, inplace=True)"
   ]
  },
  {
   "cell_type": "code",
   "execution_count": 13,
   "metadata": {},
   "outputs": [
    {
     "data": {
      "text/html": [
       "<div>\n",
       "<style scoped>\n",
       "    .dataframe tbody tr th:only-of-type {\n",
       "        vertical-align: middle;\n",
       "    }\n",
       "\n",
       "    .dataframe tbody tr th {\n",
       "        vertical-align: top;\n",
       "    }\n",
       "\n",
       "    .dataframe thead th {\n",
       "        text-align: right;\n",
       "    }\n",
       "</style>\n",
       "<table border=\"1\" class=\"dataframe\">\n",
       "  <thead>\n",
       "    <tr style=\"text-align: right;\">\n",
       "      <th></th>\n",
       "      <th>0</th>\n",
       "      <th>1</th>\n",
       "      <th>2</th>\n",
       "      <th>3</th>\n",
       "      <th>4</th>\n",
       "      <th>5</th>\n",
       "    </tr>\n",
       "  </thead>\n",
       "  <tbody>\n",
       "    <tr>\n",
       "      <td>0</td>\n",
       "      <td>20200208</td>\n",
       "      <td>xuhui</td>\n",
       "      <td>kangjian</td>\n",
       "      <td>中间楼层，欧式装修，全明边套净收眼底必看好房</td>\n",
       "      <td>375万</td>\n",
       "      <td>2室0厅 | 53.92平米 | 南 | 精装 | 中楼层(共4层) | 1992年建 | 板楼</td>\n",
       "    </tr>\n",
       "    <tr>\n",
       "      <td>1</td>\n",
       "      <td>20200208</td>\n",
       "      <td>xuhui</td>\n",
       "      <td>kangjian</td>\n",
       "      <td>花苑村紫竹园 2室1厅 468万必看好房</td>\n",
       "      <td>468万</td>\n",
       "      <td>2室1厅 | 67.11平米 | 南 | 简装 | 6层 | 1990年建 | 板楼</td>\n",
       "    </tr>\n",
       "    <tr>\n",
       "      <td>2</td>\n",
       "      <td>20200208</td>\n",
       "      <td>xuhui</td>\n",
       "      <td>kangjian</td>\n",
       "      <td>南北两房全明户型采光充足 近上海南站地铁站 诚售。必看好房</td>\n",
       "      <td>468万</td>\n",
       "      <td>2室1厅 | 68.03平米 | 南 | 精装 | 低楼层(共6层) | 1991年建 | 板楼</td>\n",
       "    </tr>\n",
       "  </tbody>\n",
       "</table>\n",
       "</div>"
      ],
      "text/plain": [
       "          0      1         2                              3     4  \\\n",
       "0  20200208  xuhui  kangjian         中间楼层，欧式装修，全明边套净收眼底必看好房  375万   \n",
       "1  20200208  xuhui  kangjian           花苑村紫竹园 2室1厅 468万必看好房  468万   \n",
       "2  20200208  xuhui  kangjian  南北两房全明户型采光充足 近上海南站地铁站 诚售。必看好房  468万   \n",
       "\n",
       "                                                  5  \n",
       "0  2室0厅 | 53.92平米 | 南 | 精装 | 中楼层(共4层) | 1992年建 | 板楼  \n",
       "1        2室1厅 | 67.11平米 | 南 | 简装 | 6层 | 1990年建 | 板楼  \n",
       "2  2室1厅 | 68.03平米 | 南 | 精装 | 低楼层(共6层) | 1991年建 | 板楼  "
      ]
     },
     "execution_count": 13,
     "metadata": {},
     "output_type": "execute_result"
    }
   ],
   "source": [
    "data.head(3)"
   ]
  },
  {
   "cell_type": "code",
   "execution_count": 14,
   "metadata": {},
   "outputs": [],
   "source": [
    "columns = ['date', 'district', 'town_name', 'description', 'listed_price', 'attributes']\n",
    "data.columns = columns"
   ]
  },
  {
   "cell_type": "code",
   "execution_count": 15,
   "metadata": {},
   "outputs": [
    {
     "data": {
      "text/html": [
       "<div>\n",
       "<style scoped>\n",
       "    .dataframe tbody tr th:only-of-type {\n",
       "        vertical-align: middle;\n",
       "    }\n",
       "\n",
       "    .dataframe tbody tr th {\n",
       "        vertical-align: top;\n",
       "    }\n",
       "\n",
       "    .dataframe thead th {\n",
       "        text-align: right;\n",
       "    }\n",
       "</style>\n",
       "<table border=\"1\" class=\"dataframe\">\n",
       "  <thead>\n",
       "    <tr style=\"text-align: right;\">\n",
       "      <th></th>\n",
       "      <th>date</th>\n",
       "      <th>district</th>\n",
       "      <th>town_name</th>\n",
       "      <th>description</th>\n",
       "      <th>listed_price</th>\n",
       "      <th>attributes</th>\n",
       "    </tr>\n",
       "  </thead>\n",
       "  <tbody>\n",
       "    <tr>\n",
       "      <td>0</td>\n",
       "      <td>20200208</td>\n",
       "      <td>xuhui</td>\n",
       "      <td>kangjian</td>\n",
       "      <td>中间楼层，欧式装修，全明边套净收眼底必看好房</td>\n",
       "      <td>375万</td>\n",
       "      <td>2室0厅 | 53.92平米 | 南 | 精装 | 中楼层(共4层) | 1992年建 | 板楼</td>\n",
       "    </tr>\n",
       "    <tr>\n",
       "      <td>1</td>\n",
       "      <td>20200208</td>\n",
       "      <td>xuhui</td>\n",
       "      <td>kangjian</td>\n",
       "      <td>花苑村紫竹园 2室1厅 468万必看好房</td>\n",
       "      <td>468万</td>\n",
       "      <td>2室1厅 | 67.11平米 | 南 | 简装 | 6层 | 1990年建 | 板楼</td>\n",
       "    </tr>\n",
       "    <tr>\n",
       "      <td>2</td>\n",
       "      <td>20200208</td>\n",
       "      <td>xuhui</td>\n",
       "      <td>kangjian</td>\n",
       "      <td>南北两房全明户型采光充足 近上海南站地铁站 诚售。必看好房</td>\n",
       "      <td>468万</td>\n",
       "      <td>2室1厅 | 68.03平米 | 南 | 精装 | 低楼层(共6层) | 1991年建 | 板楼</td>\n",
       "    </tr>\n",
       "  </tbody>\n",
       "</table>\n",
       "</div>"
      ],
      "text/plain": [
       "       date district town_name                    description listed_price  \\\n",
       "0  20200208    xuhui  kangjian         中间楼层，欧式装修，全明边套净收眼底必看好房         375万   \n",
       "1  20200208    xuhui  kangjian           花苑村紫竹园 2室1厅 468万必看好房         468万   \n",
       "2  20200208    xuhui  kangjian  南北两房全明户型采光充足 近上海南站地铁站 诚售。必看好房         468万   \n",
       "\n",
       "                                         attributes  \n",
       "0  2室0厅 | 53.92平米 | 南 | 精装 | 中楼层(共4层) | 1992年建 | 板楼  \n",
       "1        2室1厅 | 67.11平米 | 南 | 简装 | 6层 | 1990年建 | 板楼  \n",
       "2  2室1厅 | 68.03平米 | 南 | 精装 | 低楼层(共6层) | 1991年建 | 板楼  "
      ]
     },
     "execution_count": 15,
     "metadata": {},
     "output_type": "execute_result"
    }
   ],
   "source": [
    "data.head(3)"
   ]
  },
  {
   "cell_type": "code",
   "execution_count": 16,
   "metadata": {},
   "outputs": [],
   "source": [
    "# 分离attributes中各部分\n",
    "#lst = ['layout', 'total_area', 'direction', 'decoration_rate', 'stairs', 'built_year', 'building_type' ]\n",
    "attributes = data['attributes'].apply(lambda x: x.split('|', 6))"
   ]
  },
  {
   "cell_type": "code",
   "execution_count": 17,
   "metadata": {},
   "outputs": [
    {
     "data": {
      "text/plain": [
       "(16206,)"
      ]
     },
     "execution_count": 17,
     "metadata": {},
     "output_type": "execute_result"
    }
   ],
   "source": [
    "attributes.shape"
   ]
  },
  {
   "cell_type": "code",
   "execution_count": 18,
   "metadata": {},
   "outputs": [
    {
     "data": {
      "text/plain": [
       "0    [2室0厅 ,  53.92平米 ,  南 ,  精装 ,  中楼层(共4层) ,  199...\n",
       "1    [2室1厅 ,  67.11平米 ,  南 ,  简装 ,  6层 ,  1990年建 , ...\n",
       "2    [2室1厅 ,  68.03平米 ,  南 ,  精装 ,  低楼层(共6层) ,  199...\n",
       "Name: attributes, dtype: object"
      ]
     },
     "execution_count": 18,
     "metadata": {},
     "output_type": "execute_result"
    }
   ],
   "source": [
    "attributes.head(3)"
   ]
  },
  {
   "cell_type": "code",
   "execution_count": 19,
   "metadata": {},
   "outputs": [
    {
     "data": {
      "text/plain": [
       "False"
      ]
     },
     "execution_count": 19,
     "metadata": {},
     "output_type": "execute_result"
    }
   ],
   "source": [
    "# 看attributes中是否都为相同长度\n",
    "(attributes.apply(lambda x: len(x)) == 7).all()"
   ]
  },
  {
   "cell_type": "code",
   "execution_count": 20,
   "metadata": {},
   "outputs": [
    {
     "data": {
      "text/plain": [
       "0.03585091941256325"
      ]
     },
     "execution_count": 20,
     "metadata": {},
     "output_type": "execute_result"
    }
   ],
   "source": [
    "(attributes.apply(lambda x: len(x)) != 7).sum() / len(attributes)"
   ]
  },
  {
   "cell_type": "code",
   "execution_count": 21,
   "metadata": {},
   "outputs": [
    {
     "name": "stdout",
     "output_type": "stream",
     "text": [
      "['2室1厅 ', ' 93.34平米 ', ' 南 ', ' 精装 ', ' 28层  ', ' 塔楼']\n"
     ]
    }
   ],
   "source": [
    "# 试看某个长度不为7 的属性\n",
    "for lst in attributes:\n",
    "    if len(lst) != 7:\n",
    "        print(lst)\n",
    "        break"
   ]
  },
  {
   "cell_type": "code",
   "execution_count": 22,
   "metadata": {},
   "outputs": [
    {
     "data": {
      "text/plain": [
       "1"
      ]
     },
     "execution_count": 22,
     "metadata": {},
     "output_type": "execute_result"
    }
   ],
   "source": [
    "attributes.apply(lambda x: len(x)).min()"
   ]
  },
  {
   "cell_type": "code",
   "execution_count": 23,
   "metadata": {},
   "outputs": [
    {
     "name": "stdout",
     "output_type": "stream",
     "text": [
      "['230万']\n"
     ]
    }
   ],
   "source": [
    "for lst in attributes:\n",
    "    if len(lst) == 1:\n",
    "        print(lst)\n",
    "        break"
   ]
  },
  {
   "cell_type": "code",
   "execution_count": 24,
   "metadata": {},
   "outputs": [
    {
     "data": {
      "text/html": [
       "<div>\n",
       "<style scoped>\n",
       "    .dataframe tbody tr th:only-of-type {\n",
       "        vertical-align: middle;\n",
       "    }\n",
       "\n",
       "    .dataframe tbody tr th {\n",
       "        vertical-align: top;\n",
       "    }\n",
       "\n",
       "    .dataframe thead th {\n",
       "        text-align: right;\n",
       "    }\n",
       "</style>\n",
       "<table border=\"1\" class=\"dataframe\">\n",
       "  <thead>\n",
       "    <tr style=\"text-align: right;\">\n",
       "      <th></th>\n",
       "      <th>date</th>\n",
       "      <th>district</th>\n",
       "      <th>town_name</th>\n",
       "      <th>description</th>\n",
       "      <th>listed_price</th>\n",
       "      <th>attributes</th>\n",
       "    </tr>\n",
       "  </thead>\n",
       "  <tbody>\n",
       "    <tr>\n",
       "      <td>6006</td>\n",
       "      <td>20200208</td>\n",
       "      <td>minhang</td>\n",
       "      <td>pujiang1</td>\n",
       "      <td>浦江丽都，两房电梯</td>\n",
       "      <td>房型方正，南北通户型必看好房</td>\n",
       "      <td>230万</td>\n",
       "    </tr>\n",
       "    <tr>\n",
       "      <td>6112</td>\n",
       "      <td>20200208</td>\n",
       "      <td>minhang</td>\n",
       "      <td>pujiang1</td>\n",
       "      <td>楼层高采光好、看房方便提前约、出入方便</td>\n",
       "      <td>配套齐全</td>\n",
       "      <td>190万</td>\n",
       "    </tr>\n",
       "    <tr>\n",
       "      <td>6125</td>\n",
       "      <td>20200208</td>\n",
       "      <td>minhang</td>\n",
       "      <td>pujiang1</td>\n",
       "      <td>浦江小丽都，两房电梯</td>\n",
       "      <td>房型方正，南北通透</td>\n",
       "      <td>243万</td>\n",
       "    </tr>\n",
       "    <tr>\n",
       "      <td>6128</td>\n",
       "      <td>20200208</td>\n",
       "      <td>minhang</td>\n",
       "      <td>pujiang1</td>\n",
       "      <td>楼层高采光好、近地铁 出入方便</td>\n",
       "      <td>配套齐全。</td>\n",
       "      <td>188万</td>\n",
       "    </tr>\n",
       "    <tr>\n",
       "      <td>6133</td>\n",
       "      <td>20200208</td>\n",
       "      <td>minhang</td>\n",
       "      <td>pujiang1</td>\n",
       "      <td>前滩4公里</td>\n",
       "      <td>带100平露台，南北通，采光通风好 急售</td>\n",
       "      <td>855万</td>\n",
       "    </tr>\n",
       "  </tbody>\n",
       "</table>\n",
       "</div>"
      ],
      "text/plain": [
       "          date district town_name          description          listed_price  \\\n",
       "6006  20200208  minhang  pujiang1            浦江丽都，两房电梯        房型方正，南北通户型必看好房   \n",
       "6112  20200208  minhang  pujiang1  楼层高采光好、看房方便提前约、出入方便                  配套齐全   \n",
       "6125  20200208  minhang  pujiang1           浦江小丽都，两房电梯             房型方正，南北通透   \n",
       "6128  20200208  minhang  pujiang1      楼层高采光好、近地铁 出入方便                 配套齐全。   \n",
       "6133  20200208  minhang  pujiang1                前滩4公里  带100平露台，南北通，采光通风好 急售   \n",
       "\n",
       "     attributes  \n",
       "6006       230万  \n",
       "6112       190万  \n",
       "6125       243万  \n",
       "6128       188万  \n",
       "6133       855万  "
      ]
     },
     "execution_count": 24,
     "metadata": {},
     "output_type": "execute_result"
    }
   ],
   "source": [
    "# 看一下这个奇怪的数据\n",
    "data.loc[attributes.apply(lambda x: len(x))==1, :].head()"
   ]
  },
  {
   "cell_type": "code",
   "execution_count": 25,
   "metadata": {},
   "outputs": [
    {
     "data": {
      "text/plain": [
       "array(['minhang', 'xuhui'], dtype=object)"
      ]
     },
     "execution_count": 25,
     "metadata": {},
     "output_type": "execute_result"
    }
   ],
   "source": [
    "# 读入数据时似乎出问题了，看看有哪些区的数据有问题\n",
    "data.loc[attributes.apply(lambda x: len(x))==1, 'district'].unique()"
   ]
  },
  {
   "cell_type": "code",
   "execution_count": 26,
   "metadata": {},
   "outputs": [
    {
     "data": {
      "text/plain": [
       "array(['xuhui', 'pudong', 'minhang', 'jiading', 'baoshan'], dtype=object)"
      ]
     },
     "execution_count": 26,
     "metadata": {},
     "output_type": "execute_result"
    }
   ],
   "source": [
    "data.loc[attributes.apply(lambda x: len(x))!=7, 'district'].unique()"
   ]
  },
  {
   "cell_type": "code",
   "execution_count": 27,
   "metadata": {},
   "outputs": [
    {
     "data": {
      "text/plain": [
       "district      5\n",
       "town_name    54\n",
       "dtype: int64"
      ]
     },
     "execution_count": 27,
     "metadata": {},
     "output_type": "execute_result"
    }
   ],
   "source": [
    "data.loc[attributes.apply(lambda x: len(x))!=7, ['district', 'town_name']].apply(lambda x: x.nunique())"
   ]
  },
  {
   "cell_type": "code",
   "execution_count": 28,
   "metadata": {},
   "outputs": [
    {
     "data": {
      "text/plain": [
       "218"
      ]
     },
     "execution_count": 28,
     "metadata": {},
     "output_type": "execute_result"
    }
   ],
   "source": [
    "len(files)"
   ]
  },
  {
   "cell_type": "code",
   "execution_count": 29,
   "metadata": {},
   "outputs": [],
   "source": [
    "data_broken = data.loc[attributes.apply(lambda x: len(x))!=7, ['district', 'town_name']]"
   ]
  },
  {
   "cell_type": "code",
   "execution_count": 30,
   "metadata": {},
   "outputs": [
    {
     "data": {
      "text/plain": [
       "(581, 2)"
      ]
     },
     "execution_count": 30,
     "metadata": {},
     "output_type": "execute_result"
    }
   ],
   "source": [
    "data_broken.shape"
   ]
  },
  {
   "cell_type": "code",
   "execution_count": 31,
   "metadata": {},
   "outputs": [
    {
     "data": {
      "text/html": [
       "<div>\n",
       "<style scoped>\n",
       "    .dataframe tbody tr th:only-of-type {\n",
       "        vertical-align: middle;\n",
       "    }\n",
       "\n",
       "    .dataframe tbody tr th {\n",
       "        vertical-align: top;\n",
       "    }\n",
       "\n",
       "    .dataframe thead th {\n",
       "        text-align: right;\n",
       "    }\n",
       "</style>\n",
       "<table border=\"1\" class=\"dataframe\">\n",
       "  <thead>\n",
       "    <tr style=\"text-align: right;\">\n",
       "      <th></th>\n",
       "      <th>district</th>\n",
       "      <th>town_name</th>\n",
       "    </tr>\n",
       "  </thead>\n",
       "  <tbody>\n",
       "    <tr>\n",
       "      <td>9</td>\n",
       "      <td>xuhui</td>\n",
       "      <td>kangjian</td>\n",
       "    </tr>\n",
       "    <tr>\n",
       "      <td>250</td>\n",
       "      <td>pudong</td>\n",
       "      <td>nanmatou</td>\n",
       "    </tr>\n",
       "    <tr>\n",
       "      <td>326</td>\n",
       "      <td>pudong</td>\n",
       "      <td>nanmatou</td>\n",
       "    </tr>\n",
       "    <tr>\n",
       "      <td>329</td>\n",
       "      <td>pudong</td>\n",
       "      <td>nanmatou</td>\n",
       "    </tr>\n",
       "    <tr>\n",
       "      <td>440</td>\n",
       "      <td>pudong</td>\n",
       "      <td>nanmatou</td>\n",
       "    </tr>\n",
       "  </tbody>\n",
       "</table>\n",
       "</div>"
      ],
      "text/plain": [
       "    district town_name\n",
       "9      xuhui  kangjian\n",
       "250   pudong  nanmatou\n",
       "326   pudong  nanmatou\n",
       "329   pudong  nanmatou\n",
       "440   pudong  nanmatou"
      ]
     },
     "execution_count": 31,
     "metadata": {},
     "output_type": "execute_result"
    }
   ],
   "source": [
    "data_broken.head()"
   ]
  },
  {
   "cell_type": "code",
   "execution_count": 32,
   "metadata": {},
   "outputs": [
    {
     "data": {
      "text/plain": [
       "0.03585091941256325"
      ]
     },
     "execution_count": 32,
     "metadata": {},
     "output_type": "execute_result"
    }
   ],
   "source": [
    "data_broken.shape[0] / data.shape[0]"
   ]
  },
  {
   "cell_type": "code",
   "execution_count": 33,
   "metadata": {},
   "outputs": [],
   "source": [
    "xuhui_kangjian = pd.read_csv(base_path+'xuhui_kangjian.csv',header=None, \n",
    "                             error_bad_lines=False, warn_bad_lines=False)\n",
    "pudong_nanmatou = pd.read_csv(base_path+'pudong_nanmatou.csv',header=None, \n",
    "                             error_bad_lines=False, warn_bad_lines=False)"
   ]
  },
  {
   "cell_type": "code",
   "execution_count": 34,
   "metadata": {},
   "outputs": [
    {
     "data": {
      "text/html": [
       "<div>\n",
       "<style scoped>\n",
       "    .dataframe tbody tr th:only-of-type {\n",
       "        vertical-align: middle;\n",
       "    }\n",
       "\n",
       "    .dataframe tbody tr th {\n",
       "        vertical-align: top;\n",
       "    }\n",
       "\n",
       "    .dataframe thead th {\n",
       "        text-align: right;\n",
       "    }\n",
       "</style>\n",
       "<table border=\"1\" class=\"dataframe\">\n",
       "  <thead>\n",
       "    <tr style=\"text-align: right;\">\n",
       "      <th></th>\n",
       "      <th>0</th>\n",
       "      <th>1</th>\n",
       "      <th>2</th>\n",
       "      <th>3</th>\n",
       "      <th>4</th>\n",
       "      <th>5</th>\n",
       "      <th>6</th>\n",
       "    </tr>\n",
       "  </thead>\n",
       "  <tbody>\n",
       "    <tr>\n",
       "      <td>0</td>\n",
       "      <td>20200208</td>\n",
       "      <td>徐汇</td>\n",
       "      <td>康健</td>\n",
       "      <td>中间楼层，欧式装修，全明边套净收眼底必看好房</td>\n",
       "      <td>375万</td>\n",
       "      <td>2室0厅 | 53.92平米 | 南 | 精装 | 中楼层(共4层) | 1992年建 | 板楼</td>\n",
       "      <td>https://image1.ljcdn.com/310000-inspection/pc1...</td>\n",
       "    </tr>\n",
       "    <tr>\n",
       "      <td>1</td>\n",
       "      <td>20200208</td>\n",
       "      <td>徐汇</td>\n",
       "      <td>康健</td>\n",
       "      <td>花苑村紫竹园 2室1厅 468万必看好房</td>\n",
       "      <td>468万</td>\n",
       "      <td>2室1厅 | 67.11平米 | 南 | 简装 | 6层 | 1990年建 | 板楼</td>\n",
       "      <td>https://image1.ljcdn.com/310000-inspection/pc1...</td>\n",
       "    </tr>\n",
       "    <tr>\n",
       "      <td>2</td>\n",
       "      <td>20200208</td>\n",
       "      <td>徐汇</td>\n",
       "      <td>康健</td>\n",
       "      <td>南北两房全明户型采光充足 近上海南站地铁站 诚售。必看好房</td>\n",
       "      <td>468万</td>\n",
       "      <td>2室1厅 | 68.03平米 | 南 | 精装 | 低楼层(共6层) | 1991年建 | 板楼</td>\n",
       "      <td>https://image1.ljcdn.com/310000-inspection/pc1...</td>\n",
       "    </tr>\n",
       "    <tr>\n",
       "      <td>3</td>\n",
       "      <td>20200208</td>\n",
       "      <td>徐汇</td>\n",
       "      <td>康健</td>\n",
       "      <td>桂莘小区 双南双天井 精装三房 近地铁十二号线必看好房</td>\n",
       "      <td>520万</td>\n",
       "      <td>3室1厅 | 78.38平米 | 南 | 精装 | 低楼层(共6层) | 1997年建 | 板楼</td>\n",
       "      <td>https://image1.ljcdn.com/310000-inspection/pc1...</td>\n",
       "    </tr>\n",
       "    <tr>\n",
       "      <td>4</td>\n",
       "      <td>20200208</td>\n",
       "      <td>徐汇</td>\n",
       "      <td>康健</td>\n",
       "      <td>精装电梯三房，近地铁，双阳台，闹中取静，值得拥有。必看好房</td>\n",
       "      <td>499万</td>\n",
       "      <td>3室1厅 | 110.66平米 | 东南 | 精装 | 28层 | 1996年建 | 塔楼</td>\n",
       "      <td>https://image1.ljcdn.com/310000-inspection/188...</td>\n",
       "    </tr>\n",
       "  </tbody>\n",
       "</table>\n",
       "</div>"
      ],
      "text/plain": [
       "          0   1   2                              3     4  \\\n",
       "0  20200208  徐汇  康健         中间楼层，欧式装修，全明边套净收眼底必看好房  375万   \n",
       "1  20200208  徐汇  康健           花苑村紫竹园 2室1厅 468万必看好房  468万   \n",
       "2  20200208  徐汇  康健  南北两房全明户型采光充足 近上海南站地铁站 诚售。必看好房  468万   \n",
       "3  20200208  徐汇  康健    桂莘小区 双南双天井 精装三房 近地铁十二号线必看好房  520万   \n",
       "4  20200208  徐汇  康健  精装电梯三房，近地铁，双阳台，闹中取静，值得拥有。必看好房  499万   \n",
       "\n",
       "                                                  5  \\\n",
       "0  2室0厅 | 53.92平米 | 南 | 精装 | 中楼层(共4层) | 1992年建 | 板楼   \n",
       "1        2室1厅 | 67.11平米 | 南 | 简装 | 6层 | 1990年建 | 板楼   \n",
       "2  2室1厅 | 68.03平米 | 南 | 精装 | 低楼层(共6层) | 1991年建 | 板楼   \n",
       "3  3室1厅 | 78.38平米 | 南 | 精装 | 低楼层(共6层) | 1997年建 | 板楼   \n",
       "4     3室1厅 | 110.66平米 | 东南 | 精装 | 28层 | 1996年建 | 塔楼   \n",
       "\n",
       "                                                   6  \n",
       "0  https://image1.ljcdn.com/310000-inspection/pc1...  \n",
       "1  https://image1.ljcdn.com/310000-inspection/pc1...  \n",
       "2  https://image1.ljcdn.com/310000-inspection/pc1...  \n",
       "3  https://image1.ljcdn.com/310000-inspection/pc1...  \n",
       "4  https://image1.ljcdn.com/310000-inspection/188...  "
      ]
     },
     "execution_count": 34,
     "metadata": {},
     "output_type": "execute_result"
    }
   ],
   "source": [
    "xuhui_kangjian.head()"
   ]
  },
  {
   "cell_type": "code",
   "execution_count": 35,
   "metadata": {},
   "outputs": [
    {
     "data": {
      "text/plain": [
       "(90, 7)"
      ]
     },
     "execution_count": 35,
     "metadata": {},
     "output_type": "execute_result"
    }
   ],
   "source": [
    "xuhui_kangjian.shape"
   ]
  },
  {
   "cell_type": "code",
   "execution_count": 36,
   "metadata": {},
   "outputs": [],
   "source": [
    "data_broken = data.iloc[data_broken.index, :]"
   ]
  },
  {
   "cell_type": "code",
   "execution_count": 37,
   "metadata": {},
   "outputs": [
    {
     "data": {
      "text/html": [
       "<div>\n",
       "<style scoped>\n",
       "    .dataframe tbody tr th:only-of-type {\n",
       "        vertical-align: middle;\n",
       "    }\n",
       "\n",
       "    .dataframe tbody tr th {\n",
       "        vertical-align: top;\n",
       "    }\n",
       "\n",
       "    .dataframe thead th {\n",
       "        text-align: right;\n",
       "    }\n",
       "</style>\n",
       "<table border=\"1\" class=\"dataframe\">\n",
       "  <thead>\n",
       "    <tr style=\"text-align: right;\">\n",
       "      <th></th>\n",
       "      <th>date</th>\n",
       "      <th>district</th>\n",
       "      <th>town_name</th>\n",
       "      <th>description</th>\n",
       "      <th>listed_price</th>\n",
       "      <th>attributes</th>\n",
       "    </tr>\n",
       "  </thead>\n",
       "  <tbody>\n",
       "    <tr>\n",
       "      <td>9</td>\n",
       "      <td>20200208</td>\n",
       "      <td>xuhui</td>\n",
       "      <td>kangjian</td>\n",
       "      <td>A+好房！徐汇唯一一套户型正客厅大的双南两房！必看好房</td>\n",
       "      <td>460万</td>\n",
       "      <td>2室1厅 | 93.34平米 | 南 | 精装 | 28层  | 塔楼</td>\n",
       "    </tr>\n",
       "    <tr>\n",
       "      <td>250</td>\n",
       "      <td>20200208</td>\n",
       "      <td>pudong</td>\n",
       "      <td>nanmatou</td>\n",
       "      <td>房子2015年新加坡开发商，房子带产权车位，价格另算必看好房</td>\n",
       "      <td>1200万</td>\n",
       "      <td>3室2厅 | 142.71平米 | 南 | 精装 | 低楼层(共16层)  | 板楼</td>\n",
       "    </tr>\n",
       "    <tr>\n",
       "      <td>326</td>\n",
       "      <td>20200208</td>\n",
       "      <td>pudong</td>\n",
       "      <td>nanmatou</td>\n",
       "      <td>中间楼层+经典一室半+视野开阔+产权干净无户口</td>\n",
       "      <td>185万</td>\n",
       "      <td>1室1厅 | 36.78平米 | 南 | 简装 | 中楼层(共6层)  | 板楼</td>\n",
       "    </tr>\n",
       "    <tr>\n",
       "      <td>329</td>\n",
       "      <td>20200208</td>\n",
       "      <td>pudong</td>\n",
       "      <td>nanmatou</td>\n",
       "      <td>新加坡开发商，2015年次新房，高区两房朝南厅朝南</td>\n",
       "      <td>880万</td>\n",
       "      <td>2室2厅 | 104.6平米 | 南 | 精装 | 高楼层(共16层)  | 板楼</td>\n",
       "    </tr>\n",
       "    <tr>\n",
       "      <td>440</td>\n",
       "      <td>20200208</td>\n",
       "      <td>pudong</td>\n",
       "      <td>nanmatou</td>\n",
       "      <td>三房两厅高楼层，户型方正，业主诚意出售到价签字</td>\n",
       "      <td>1140万</td>\n",
       "      <td>3室2厅 | 142.71平米 | 南 北 | 精装 | 高楼层(共16层)  | 板楼</td>\n",
       "    </tr>\n",
       "  </tbody>\n",
       "</table>\n",
       "</div>"
      ],
      "text/plain": [
       "         date district town_name                     description listed_price  \\\n",
       "9    20200208    xuhui  kangjian     A+好房！徐汇唯一一套户型正客厅大的双南两房！必看好房         460万   \n",
       "250  20200208   pudong  nanmatou  房子2015年新加坡开发商，房子带产权车位，价格另算必看好房        1200万   \n",
       "326  20200208   pudong  nanmatou         中间楼层+经典一室半+视野开阔+产权干净无户口         185万   \n",
       "329  20200208   pudong  nanmatou       新加坡开发商，2015年次新房，高区两房朝南厅朝南         880万   \n",
       "440  20200208   pudong  nanmatou         三房两厅高楼层，户型方正，业主诚意出售到价签字        1140万   \n",
       "\n",
       "                                       attributes  \n",
       "9             2室1厅 | 93.34平米 | 南 | 精装 | 28层  | 塔楼  \n",
       "250    3室2厅 | 142.71平米 | 南 | 精装 | 低楼层(共16层)  | 板楼  \n",
       "326      1室1厅 | 36.78平米 | 南 | 简装 | 中楼层(共6层)  | 板楼  \n",
       "329     2室2厅 | 104.6平米 | 南 | 精装 | 高楼层(共16层)  | 板楼  \n",
       "440  3室2厅 | 142.71平米 | 南 北 | 精装 | 高楼层(共16层)  | 板楼  "
      ]
     },
     "execution_count": 37,
     "metadata": {},
     "output_type": "execute_result"
    }
   ],
   "source": [
    "data_broken.head()"
   ]
  },
  {
   "cell_type": "code",
   "execution_count": 38,
   "metadata": {},
   "outputs": [],
   "source": [
    "# 这些数据似乎只是少了建成年代\n",
    "# 来看看attributes的长度分布\n",
    "attributes_len = attributes.apply(lambda x: len(x)).value_counts()"
   ]
  },
  {
   "cell_type": "code",
   "execution_count": 39,
   "metadata": {},
   "outputs": [
    {
     "data": {
      "text/plain": [
       "7    15625\n",
       "6      573\n",
       "1        8\n",
       "Name: attributes, dtype: int64"
      ]
     },
     "execution_count": 39,
     "metadata": {},
     "output_type": "execute_result"
    }
   ],
   "source": [
    "attributes_len"
   ]
  },
  {
   "cell_type": "code",
   "execution_count": 40,
   "metadata": {},
   "outputs": [],
   "source": [
    "# 丢弃那8个只有一个attribute的行\n",
    "data.drop(attributes[attributes.apply(lambda x: len(x))==1].index, inplace=True)"
   ]
  },
  {
   "cell_type": "code",
   "execution_count": 41,
   "metadata": {},
   "outputs": [
    {
     "data": {
      "text/plain": [
       "(16198, 6)"
      ]
     },
     "execution_count": 41,
     "metadata": {},
     "output_type": "execute_result"
    }
   ],
   "source": [
    "data.shape"
   ]
  },
  {
   "cell_type": "code",
   "execution_count": 42,
   "metadata": {},
   "outputs": [
    {
     "data": {
      "text/plain": [
       "False"
      ]
     },
     "execution_count": 42,
     "metadata": {},
     "output_type": "execute_result"
    }
   ],
   "source": [
    "#看剩下的有6个attributes的行是否都是缺建成年代\n",
    "attributes[attributes.apply(lambda x: len(x))==6].str.contains('年', regex=False).any()"
   ]
  },
  {
   "cell_type": "code",
   "execution_count": 43,
   "metadata": {},
   "outputs": [
    {
     "data": {
      "text/plain": [
       "9        None\n",
       "250      None\n",
       "326      None\n",
       "329      None\n",
       "440      None\n",
       "         ... \n",
       "15842    None\n",
       "15898    None\n",
       "15911    None\n",
       "15916    None\n",
       "15920    None\n",
       "Name: attributes, Length: 573, dtype: object"
      ]
     },
     "execution_count": 43,
     "metadata": {},
     "output_type": "execute_result"
    }
   ],
   "source": [
    "# 给缺建成年的补上0年\n",
    "def insert_year(x, year=0):\n",
    "    \"\"\"insert list x with built year \"\"\"\n",
    "    assert len(x) == 6\n",
    "    \n",
    "    return x.insert(5, str(year)+'年建')\n",
    "    \n",
    "attributes[attributes.apply(lambda x: len(x))==6].apply(insert_year)"
   ]
  },
  {
   "cell_type": "code",
   "execution_count": 44,
   "metadata": {},
   "outputs": [
    {
     "name": "stdout",
     "output_type": "stream",
     "text": [
      "['2室1厅 ', ' 93.34平米 ', ' 南 ', ' 精装 ', ' 28层  ', '0年建', ' 塔楼']\n"
     ]
    }
   ],
   "source": [
    "# 检查一下\n",
    "print(attributes[9])\n"
   ]
  },
  {
   "cell_type": "code",
   "execution_count": 45,
   "metadata": {},
   "outputs": [],
   "source": [
    "attributes.drop(attributes[attributes.apply(len)==1].index, inplace=True)"
   ]
  },
  {
   "cell_type": "code",
   "execution_count": 46,
   "metadata": {},
   "outputs": [
    {
     "data": {
      "text/plain": [
       "True"
      ]
     },
     "execution_count": 46,
     "metadata": {},
     "output_type": "execute_result"
    }
   ],
   "source": [
    "attributes.shape[0] == data.shape[0]\n"
   ]
  },
  {
   "cell_type": "code",
   "execution_count": 47,
   "metadata": {},
   "outputs": [
    {
     "name": "stdout",
     "output_type": "stream",
     "text": [
      "layout\n",
      "total_area\n",
      "direction\n",
      "decoration_rate\n",
      "stairs\n",
      "built_year\n",
      "building_type\n"
     ]
    }
   ],
   "source": [
    "attributes_splited = pd.DataFrame(index=attributes.index)\n",
    "attr_cols = ['layout', 'total_area', 'direction', 'decoration_rate', 'stairs', 'built_year', 'building_type' ]\n",
    "for i, attribute in enumerate(attr_cols):\n",
    "    print(attribute)\n",
    "    attributes_splited[attribute] = attributes.apply(lambda x: x[i])"
   ]
  },
  {
   "cell_type": "code",
   "execution_count": 48,
   "metadata": {},
   "outputs": [
    {
     "data": {
      "text/html": [
       "<div>\n",
       "<style scoped>\n",
       "    .dataframe tbody tr th:only-of-type {\n",
       "        vertical-align: middle;\n",
       "    }\n",
       "\n",
       "    .dataframe tbody tr th {\n",
       "        vertical-align: top;\n",
       "    }\n",
       "\n",
       "    .dataframe thead th {\n",
       "        text-align: right;\n",
       "    }\n",
       "</style>\n",
       "<table border=\"1\" class=\"dataframe\">\n",
       "  <thead>\n",
       "    <tr style=\"text-align: right;\">\n",
       "      <th></th>\n",
       "      <th>layout</th>\n",
       "      <th>total_area</th>\n",
       "      <th>direction</th>\n",
       "      <th>decoration_rate</th>\n",
       "      <th>stairs</th>\n",
       "      <th>built_year</th>\n",
       "      <th>building_type</th>\n",
       "    </tr>\n",
       "  </thead>\n",
       "  <tbody>\n",
       "    <tr>\n",
       "      <td>0</td>\n",
       "      <td>2室0厅</td>\n",
       "      <td>53.92平米</td>\n",
       "      <td>南</td>\n",
       "      <td>精装</td>\n",
       "      <td>中楼层(共4层)</td>\n",
       "      <td>1992年建</td>\n",
       "      <td>板楼</td>\n",
       "    </tr>\n",
       "    <tr>\n",
       "      <td>1</td>\n",
       "      <td>2室1厅</td>\n",
       "      <td>67.11平米</td>\n",
       "      <td>南</td>\n",
       "      <td>简装</td>\n",
       "      <td>6层</td>\n",
       "      <td>1990年建</td>\n",
       "      <td>板楼</td>\n",
       "    </tr>\n",
       "    <tr>\n",
       "      <td>2</td>\n",
       "      <td>2室1厅</td>\n",
       "      <td>68.03平米</td>\n",
       "      <td>南</td>\n",
       "      <td>精装</td>\n",
       "      <td>低楼层(共6层)</td>\n",
       "      <td>1991年建</td>\n",
       "      <td>板楼</td>\n",
       "    </tr>\n",
       "  </tbody>\n",
       "</table>\n",
       "</div>"
      ],
      "text/plain": [
       "  layout total_area direction decoration_rate      stairs built_year  \\\n",
       "0  2室0厅    53.92平米         南              精装    中楼层(共4层)     1992年建    \n",
       "1  2室1厅    67.11平米         南              简装          6层     1990年建    \n",
       "2  2室1厅    68.03平米         南              精装    低楼层(共6层)     1991年建    \n",
       "\n",
       "  building_type  \n",
       "0            板楼  \n",
       "1            板楼  \n",
       "2            板楼  "
      ]
     },
     "execution_count": 48,
     "metadata": {},
     "output_type": "execute_result"
    }
   ],
   "source": [
    "attributes_splited.head(3)"
   ]
  },
  {
   "cell_type": "code",
   "execution_count": 49,
   "metadata": {},
   "outputs": [],
   "source": [
    "data = data.merge(attributes_splited, left_index=True, right_index=True)"
   ]
  },
  {
   "cell_type": "code",
   "execution_count": 50,
   "metadata": {},
   "outputs": [
    {
     "data": {
      "text/plain": [
       "(16198, 13)"
      ]
     },
     "execution_count": 50,
     "metadata": {},
     "output_type": "execute_result"
    }
   ],
   "source": [
    "data.shape"
   ]
  },
  {
   "cell_type": "code",
   "execution_count": 51,
   "metadata": {},
   "outputs": [],
   "source": [
    "data.drop(['date', 'attributes'], axis=1, inplace=True)"
   ]
  },
  {
   "cell_type": "code",
   "execution_count": 52,
   "metadata": {},
   "outputs": [
    {
     "data": {
      "text/html": [
       "<div>\n",
       "<style scoped>\n",
       "    .dataframe tbody tr th:only-of-type {\n",
       "        vertical-align: middle;\n",
       "    }\n",
       "\n",
       "    .dataframe tbody tr th {\n",
       "        vertical-align: top;\n",
       "    }\n",
       "\n",
       "    .dataframe thead th {\n",
       "        text-align: right;\n",
       "    }\n",
       "</style>\n",
       "<table border=\"1\" class=\"dataframe\">\n",
       "  <thead>\n",
       "    <tr style=\"text-align: right;\">\n",
       "      <th></th>\n",
       "      <th>district</th>\n",
       "      <th>town_name</th>\n",
       "      <th>description</th>\n",
       "      <th>listed_price</th>\n",
       "      <th>layout</th>\n",
       "      <th>total_area</th>\n",
       "      <th>direction</th>\n",
       "      <th>decoration_rate</th>\n",
       "      <th>stairs</th>\n",
       "      <th>built_year</th>\n",
       "      <th>building_type</th>\n",
       "    </tr>\n",
       "  </thead>\n",
       "  <tbody>\n",
       "    <tr>\n",
       "      <td>0</td>\n",
       "      <td>xuhui</td>\n",
       "      <td>kangjian</td>\n",
       "      <td>中间楼层，欧式装修，全明边套净收眼底必看好房</td>\n",
       "      <td>375万</td>\n",
       "      <td>2室0厅</td>\n",
       "      <td>53.92平米</td>\n",
       "      <td>南</td>\n",
       "      <td>精装</td>\n",
       "      <td>中楼层(共4层)</td>\n",
       "      <td>1992年建</td>\n",
       "      <td>板楼</td>\n",
       "    </tr>\n",
       "    <tr>\n",
       "      <td>1</td>\n",
       "      <td>xuhui</td>\n",
       "      <td>kangjian</td>\n",
       "      <td>花苑村紫竹园 2室1厅 468万必看好房</td>\n",
       "      <td>468万</td>\n",
       "      <td>2室1厅</td>\n",
       "      <td>67.11平米</td>\n",
       "      <td>南</td>\n",
       "      <td>简装</td>\n",
       "      <td>6层</td>\n",
       "      <td>1990年建</td>\n",
       "      <td>板楼</td>\n",
       "    </tr>\n",
       "    <tr>\n",
       "      <td>2</td>\n",
       "      <td>xuhui</td>\n",
       "      <td>kangjian</td>\n",
       "      <td>南北两房全明户型采光充足 近上海南站地铁站 诚售。必看好房</td>\n",
       "      <td>468万</td>\n",
       "      <td>2室1厅</td>\n",
       "      <td>68.03平米</td>\n",
       "      <td>南</td>\n",
       "      <td>精装</td>\n",
       "      <td>低楼层(共6层)</td>\n",
       "      <td>1991年建</td>\n",
       "      <td>板楼</td>\n",
       "    </tr>\n",
       "    <tr>\n",
       "      <td>3</td>\n",
       "      <td>xuhui</td>\n",
       "      <td>kangjian</td>\n",
       "      <td>桂莘小区 双南双天井 精装三房 近地铁十二号线必看好房</td>\n",
       "      <td>520万</td>\n",
       "      <td>3室1厅</td>\n",
       "      <td>78.38平米</td>\n",
       "      <td>南</td>\n",
       "      <td>精装</td>\n",
       "      <td>低楼层(共6层)</td>\n",
       "      <td>1997年建</td>\n",
       "      <td>板楼</td>\n",
       "    </tr>\n",
       "    <tr>\n",
       "      <td>4</td>\n",
       "      <td>xuhui</td>\n",
       "      <td>kangjian</td>\n",
       "      <td>精装电梯三房，近地铁，双阳台，闹中取静，值得拥有。必看好房</td>\n",
       "      <td>499万</td>\n",
       "      <td>3室1厅</td>\n",
       "      <td>110.66平米</td>\n",
       "      <td>东南</td>\n",
       "      <td>精装</td>\n",
       "      <td>28层</td>\n",
       "      <td>1996年建</td>\n",
       "      <td>塔楼</td>\n",
       "    </tr>\n",
       "  </tbody>\n",
       "</table>\n",
       "</div>"
      ],
      "text/plain": [
       "  district town_name                    description listed_price layout  \\\n",
       "0    xuhui  kangjian         中间楼层，欧式装修，全明边套净收眼底必看好房         375万  2室0厅    \n",
       "1    xuhui  kangjian           花苑村紫竹园 2室1厅 468万必看好房         468万  2室1厅    \n",
       "2    xuhui  kangjian  南北两房全明户型采光充足 近上海南站地铁站 诚售。必看好房         468万  2室1厅    \n",
       "3    xuhui  kangjian    桂莘小区 双南双天井 精装三房 近地铁十二号线必看好房         520万  3室1厅    \n",
       "4    xuhui  kangjian  精装电梯三房，近地铁，双阳台，闹中取静，值得拥有。必看好房         499万  3室1厅    \n",
       "\n",
       "   total_area direction decoration_rate      stairs built_year building_type  \n",
       "0    53.92平米         南              精装    中楼层(共4层)     1992年建             板楼  \n",
       "1    67.11平米         南              简装          6层     1990年建             板楼  \n",
       "2    68.03平米         南              精装    低楼层(共6层)     1991年建             板楼  \n",
       "3    78.38平米         南              精装    低楼层(共6层)     1997年建             板楼  \n",
       "4   110.66平米        东南              精装         28层     1996年建             塔楼  "
      ]
     },
     "execution_count": 52,
     "metadata": {},
     "output_type": "execute_result"
    }
   ],
   "source": [
    "data.head()"
   ]
  },
  {
   "cell_type": "code",
   "execution_count": 53,
   "metadata": {},
   "outputs": [
    {
     "ename": "ValueError",
     "evalue": "could not convert string to float: ",
     "output_type": "error",
     "traceback": [
      "\u001b[0;31m---------------------------------------------------------------------------\u001b[0m",
      "\u001b[0;31mValueError\u001b[0m                                Traceback (most recent call last)",
      "\u001b[0;32m<ipython-input-53-ecb064c63388>\u001b[0m in \u001b[0;36m<module>\u001b[0;34m\u001b[0m\n\u001b[1;32m      2\u001b[0m \u001b[0mlisted_price\u001b[0m \u001b[0;34m=\u001b[0m \u001b[0mdata\u001b[0m\u001b[0;34m[\u001b[0m\u001b[0;34m'listed_price'\u001b[0m\u001b[0;34m]\u001b[0m\u001b[0;34m.\u001b[0m\u001b[0mapply\u001b[0m\u001b[0;34m(\u001b[0m\u001b[0;32mlambda\u001b[0m \u001b[0mx\u001b[0m\u001b[0;34m:\u001b[0m \u001b[0mfloat\u001b[0m\u001b[0;34m(\u001b[0m\u001b[0mx\u001b[0m\u001b[0;34m.\u001b[0m\u001b[0mstrip\u001b[0m\u001b[0;34m(\u001b[0m\u001b[0;34m)\u001b[0m\u001b[0;34m[\u001b[0m\u001b[0;34m:\u001b[0m\u001b[0;34m-\u001b[0m\u001b[0;36m1\u001b[0m\u001b[0;34m]\u001b[0m\u001b[0;34m)\u001b[0m\u001b[0;34m)\u001b[0m\u001b[0;34m\u001b[0m\u001b[0;34m\u001b[0m\u001b[0m\n\u001b[1;32m      3\u001b[0m \u001b[0mtotal_area\u001b[0m \u001b[0;34m=\u001b[0m \u001b[0mdata\u001b[0m\u001b[0;34m[\u001b[0m\u001b[0;34m'total_area'\u001b[0m\u001b[0;34m]\u001b[0m\u001b[0;34m.\u001b[0m\u001b[0mapply\u001b[0m\u001b[0;34m(\u001b[0m\u001b[0;32mlambda\u001b[0m \u001b[0mx\u001b[0m\u001b[0;34m:\u001b[0m \u001b[0mfloat\u001b[0m\u001b[0;34m(\u001b[0m\u001b[0mx\u001b[0m\u001b[0;34m.\u001b[0m\u001b[0mstrip\u001b[0m\u001b[0;34m(\u001b[0m\u001b[0;34m)\u001b[0m\u001b[0;34m[\u001b[0m\u001b[0;34m:\u001b[0m\u001b[0;34m-\u001b[0m\u001b[0;36m2\u001b[0m\u001b[0;34m]\u001b[0m\u001b[0;34m)\u001b[0m\u001b[0;34m)\u001b[0m\u001b[0;34m\u001b[0m\u001b[0;34m\u001b[0m\u001b[0m\n\u001b[0;32m----> 4\u001b[0;31m \u001b[0mbuilt_year\u001b[0m \u001b[0;34m=\u001b[0m \u001b[0mdata\u001b[0m\u001b[0;34m[\u001b[0m\u001b[0;34m'built_year'\u001b[0m\u001b[0;34m]\u001b[0m\u001b[0;34m.\u001b[0m\u001b[0mapply\u001b[0m\u001b[0;34m(\u001b[0m\u001b[0;32mlambda\u001b[0m \u001b[0mx\u001b[0m\u001b[0;34m:\u001b[0m \u001b[0mfloat\u001b[0m\u001b[0;34m(\u001b[0m\u001b[0mx\u001b[0m\u001b[0;34m.\u001b[0m\u001b[0mstrip\u001b[0m\u001b[0;34m(\u001b[0m\u001b[0;34m)\u001b[0m\u001b[0;34m[\u001b[0m\u001b[0;34m:\u001b[0m\u001b[0;34m-\u001b[0m\u001b[0;36m2\u001b[0m\u001b[0;34m]\u001b[0m\u001b[0;34m)\u001b[0m\u001b[0;34m)\u001b[0m\u001b[0;34m\u001b[0m\u001b[0;34m\u001b[0m\u001b[0m\n\u001b[0m\u001b[1;32m      5\u001b[0m \u001b[0;34m\u001b[0m\u001b[0m\n",
      "\u001b[0;32m~/anaconda3/lib/python3.7/site-packages/pandas/core/series.py\u001b[0m in \u001b[0;36mapply\u001b[0;34m(self, func, convert_dtype, args, **kwds)\u001b[0m\n\u001b[1;32m   4040\u001b[0m             \u001b[0;32melse\u001b[0m\u001b[0;34m:\u001b[0m\u001b[0;34m\u001b[0m\u001b[0;34m\u001b[0m\u001b[0m\n\u001b[1;32m   4041\u001b[0m                 \u001b[0mvalues\u001b[0m \u001b[0;34m=\u001b[0m \u001b[0mself\u001b[0m\u001b[0;34m.\u001b[0m\u001b[0mastype\u001b[0m\u001b[0;34m(\u001b[0m\u001b[0mobject\u001b[0m\u001b[0;34m)\u001b[0m\u001b[0;34m.\u001b[0m\u001b[0mvalues\u001b[0m\u001b[0;34m\u001b[0m\u001b[0;34m\u001b[0m\u001b[0m\n\u001b[0;32m-> 4042\u001b[0;31m                 \u001b[0mmapped\u001b[0m \u001b[0;34m=\u001b[0m \u001b[0mlib\u001b[0m\u001b[0;34m.\u001b[0m\u001b[0mmap_infer\u001b[0m\u001b[0;34m(\u001b[0m\u001b[0mvalues\u001b[0m\u001b[0;34m,\u001b[0m \u001b[0mf\u001b[0m\u001b[0;34m,\u001b[0m \u001b[0mconvert\u001b[0m\u001b[0;34m=\u001b[0m\u001b[0mconvert_dtype\u001b[0m\u001b[0;34m)\u001b[0m\u001b[0;34m\u001b[0m\u001b[0;34m\u001b[0m\u001b[0m\n\u001b[0m\u001b[1;32m   4043\u001b[0m \u001b[0;34m\u001b[0m\u001b[0m\n\u001b[1;32m   4044\u001b[0m         \u001b[0;32mif\u001b[0m \u001b[0mlen\u001b[0m\u001b[0;34m(\u001b[0m\u001b[0mmapped\u001b[0m\u001b[0;34m)\u001b[0m \u001b[0;32mand\u001b[0m \u001b[0misinstance\u001b[0m\u001b[0;34m(\u001b[0m\u001b[0mmapped\u001b[0m\u001b[0;34m[\u001b[0m\u001b[0;36m0\u001b[0m\u001b[0;34m]\u001b[0m\u001b[0;34m,\u001b[0m \u001b[0mSeries\u001b[0m\u001b[0;34m)\u001b[0m\u001b[0;34m:\u001b[0m\u001b[0;34m\u001b[0m\u001b[0;34m\u001b[0m\u001b[0m\n",
      "\u001b[0;32mpandas/_libs/lib.pyx\u001b[0m in \u001b[0;36mpandas._libs.lib.map_infer\u001b[0;34m()\u001b[0m\n",
      "\u001b[0;32m<ipython-input-53-ecb064c63388>\u001b[0m in \u001b[0;36m<lambda>\u001b[0;34m(x)\u001b[0m\n\u001b[1;32m      2\u001b[0m \u001b[0mlisted_price\u001b[0m \u001b[0;34m=\u001b[0m \u001b[0mdata\u001b[0m\u001b[0;34m[\u001b[0m\u001b[0;34m'listed_price'\u001b[0m\u001b[0;34m]\u001b[0m\u001b[0;34m.\u001b[0m\u001b[0mapply\u001b[0m\u001b[0;34m(\u001b[0m\u001b[0;32mlambda\u001b[0m \u001b[0mx\u001b[0m\u001b[0;34m:\u001b[0m \u001b[0mfloat\u001b[0m\u001b[0;34m(\u001b[0m\u001b[0mx\u001b[0m\u001b[0;34m.\u001b[0m\u001b[0mstrip\u001b[0m\u001b[0;34m(\u001b[0m\u001b[0;34m)\u001b[0m\u001b[0;34m[\u001b[0m\u001b[0;34m:\u001b[0m\u001b[0;34m-\u001b[0m\u001b[0;36m1\u001b[0m\u001b[0;34m]\u001b[0m\u001b[0;34m)\u001b[0m\u001b[0;34m)\u001b[0m\u001b[0;34m\u001b[0m\u001b[0;34m\u001b[0m\u001b[0m\n\u001b[1;32m      3\u001b[0m \u001b[0mtotal_area\u001b[0m \u001b[0;34m=\u001b[0m \u001b[0mdata\u001b[0m\u001b[0;34m[\u001b[0m\u001b[0;34m'total_area'\u001b[0m\u001b[0;34m]\u001b[0m\u001b[0;34m.\u001b[0m\u001b[0mapply\u001b[0m\u001b[0;34m(\u001b[0m\u001b[0;32mlambda\u001b[0m \u001b[0mx\u001b[0m\u001b[0;34m:\u001b[0m \u001b[0mfloat\u001b[0m\u001b[0;34m(\u001b[0m\u001b[0mx\u001b[0m\u001b[0;34m.\u001b[0m\u001b[0mstrip\u001b[0m\u001b[0;34m(\u001b[0m\u001b[0;34m)\u001b[0m\u001b[0;34m[\u001b[0m\u001b[0;34m:\u001b[0m\u001b[0;34m-\u001b[0m\u001b[0;36m2\u001b[0m\u001b[0;34m]\u001b[0m\u001b[0;34m)\u001b[0m\u001b[0;34m)\u001b[0m\u001b[0;34m\u001b[0m\u001b[0;34m\u001b[0m\u001b[0m\n\u001b[0;32m----> 4\u001b[0;31m \u001b[0mbuilt_year\u001b[0m \u001b[0;34m=\u001b[0m \u001b[0mdata\u001b[0m\u001b[0;34m[\u001b[0m\u001b[0;34m'built_year'\u001b[0m\u001b[0;34m]\u001b[0m\u001b[0;34m.\u001b[0m\u001b[0mapply\u001b[0m\u001b[0;34m(\u001b[0m\u001b[0;32mlambda\u001b[0m \u001b[0mx\u001b[0m\u001b[0;34m:\u001b[0m \u001b[0mfloat\u001b[0m\u001b[0;34m(\u001b[0m\u001b[0mx\u001b[0m\u001b[0;34m.\u001b[0m\u001b[0mstrip\u001b[0m\u001b[0;34m(\u001b[0m\u001b[0;34m)\u001b[0m\u001b[0;34m[\u001b[0m\u001b[0;34m:\u001b[0m\u001b[0;34m-\u001b[0m\u001b[0;36m2\u001b[0m\u001b[0;34m]\u001b[0m\u001b[0;34m)\u001b[0m\u001b[0;34m)\u001b[0m\u001b[0;34m\u001b[0m\u001b[0;34m\u001b[0m\u001b[0m\n\u001b[0m\u001b[1;32m      5\u001b[0m \u001b[0;34m\u001b[0m\u001b[0m\n",
      "\u001b[0;31mValueError\u001b[0m: could not convert string to float: "
     ]
    }
   ],
   "source": [
    "# 把价格，面积， 修建年转为数字型\n",
    "listed_price = data['listed_price'].apply(lambda x: float(x.strip()[:-1]))\n",
    "total_area = data['total_area'].apply(lambda x: float(x.strip()[:-2]))\n",
    "built_year = data['built_year'].apply(lambda x: float(x.strip()[:-2]))\n",
    "                                                  "
   ]
  },
  {
   "cell_type": "code",
   "execution_count": 54,
   "metadata": {},
   "outputs": [
    {
     "data": {
      "text/plain": [
       " 1994年建     1160\n",
       " 1995年建     1007\n",
       " 2006年建      948\n",
       " 2005年建      793\n",
       " 2008年建      769\n",
       "            ... \n",
       " 1941年建        1\n",
       " 2019年建        1\n",
       " 1956年建        1\n",
       " 1945年建        1\n",
       " 1973年建        1\n",
       "Name: built_year, Length: 70, dtype: int64"
      ]
     },
     "execution_count": 54,
     "metadata": {},
     "output_type": "execute_result"
    }
   ],
   "source": [
    "# 检查看built_year有何问题\n",
    "data['built_year'].value_counts()"
   ]
  },
  {
   "cell_type": "code",
   "execution_count": 55,
   "metadata": {},
   "outputs": [],
   "source": [
    "built_year_format = data['built_year'].str.match(pat='^ *[0-9]+年建 *$')"
   ]
  },
  {
   "cell_type": "code",
   "execution_count": 56,
   "metadata": {},
   "outputs": [
    {
     "data": {
      "text/plain": [
       "0        True\n",
       "1        True\n",
       "2        True\n",
       "3        True\n",
       "4        True\n",
       "         ... \n",
       "16201    True\n",
       "16202    True\n",
       "16203    True\n",
       "16204    True\n",
       "16205    True\n",
       "Name: built_year, Length: 16198, dtype: bool"
      ]
     },
     "execution_count": 56,
     "metadata": {},
     "output_type": "execute_result"
    }
   ],
   "source": [
    "built_year_format"
   ]
  },
  {
   "cell_type": "code",
   "execution_count": 57,
   "metadata": {},
   "outputs": [
    {
     "data": {
      "text/plain": [
       "False"
      ]
     },
     "execution_count": 57,
     "metadata": {},
     "output_type": "execute_result"
    }
   ],
   "source": [
    "built_year_format.all()"
   ]
  },
  {
   "cell_type": "code",
   "execution_count": 58,
   "metadata": {},
   "outputs": [
    {
     "data": {
      "text/plain": [
       "9673     板楼 \n",
       "Name: built_year, dtype: object"
      ]
     },
     "execution_count": 58,
     "metadata": {},
     "output_type": "execute_result"
    }
   ],
   "source": [
    "data['built_year'][built_year_format==False]"
   ]
  },
  {
   "cell_type": "code",
   "execution_count": 59,
   "metadata": {},
   "outputs": [
    {
     "data": {
      "text/plain": [
       "district                      minhang\n",
       "town_name                      maqiao\n",
       "description        样板房装修！未住过！急售！临天然大河\n",
       "listed_price                    1450万\n",
       "layout                          3室3厅 \n",
       "total_area                  299.48平米 \n",
       "direction                          北 \n",
       "decoration_rate                   精装 \n",
       "stairs                           2层  \n",
       "built_year                        板楼 \n",
       "building_type                    独栋别墅\n",
       "Name: 9673, dtype: object"
      ]
     },
     "execution_count": 59,
     "metadata": {},
     "output_type": "execute_result"
    }
   ],
   "source": [
    "data.loc[9673, :]"
   ]
  },
  {
   "cell_type": "code",
   "execution_count": 60,
   "metadata": {},
   "outputs": [],
   "source": [
    "# 只有一个数据有问题，修复它\n",
    "data.loc[9673, 'built_year'] = '0年建'"
   ]
  },
  {
   "cell_type": "code",
   "execution_count": 61,
   "metadata": {},
   "outputs": [],
   "source": [
    "built_year = data['built_year'].apply(lambda x: int(x.strip()[:-2]))"
   ]
  },
  {
   "cell_type": "code",
   "execution_count": 62,
   "metadata": {},
   "outputs": [],
   "source": [
    "data['listed_price'] = listed_price\n",
    "data['total_area'] = total_area\n",
    "data['built_year'] = built_year"
   ]
  },
  {
   "cell_type": "code",
   "execution_count": 63,
   "metadata": {},
   "outputs": [
    {
     "data": {
      "text/html": [
       "<div>\n",
       "<style scoped>\n",
       "    .dataframe tbody tr th:only-of-type {\n",
       "        vertical-align: middle;\n",
       "    }\n",
       "\n",
       "    .dataframe tbody tr th {\n",
       "        vertical-align: top;\n",
       "    }\n",
       "\n",
       "    .dataframe thead th {\n",
       "        text-align: right;\n",
       "    }\n",
       "</style>\n",
       "<table border=\"1\" class=\"dataframe\">\n",
       "  <thead>\n",
       "    <tr style=\"text-align: right;\">\n",
       "      <th></th>\n",
       "      <th>district</th>\n",
       "      <th>town_name</th>\n",
       "      <th>description</th>\n",
       "      <th>listed_price</th>\n",
       "      <th>layout</th>\n",
       "      <th>total_area</th>\n",
       "      <th>direction</th>\n",
       "      <th>decoration_rate</th>\n",
       "      <th>stairs</th>\n",
       "      <th>built_year</th>\n",
       "      <th>building_type</th>\n",
       "    </tr>\n",
       "  </thead>\n",
       "  <tbody>\n",
       "    <tr>\n",
       "      <td>0</td>\n",
       "      <td>xuhui</td>\n",
       "      <td>kangjian</td>\n",
       "      <td>中间楼层，欧式装修，全明边套净收眼底必看好房</td>\n",
       "      <td>375.0</td>\n",
       "      <td>2室0厅</td>\n",
       "      <td>53.92</td>\n",
       "      <td>南</td>\n",
       "      <td>精装</td>\n",
       "      <td>中楼层(共4层)</td>\n",
       "      <td>1992</td>\n",
       "      <td>板楼</td>\n",
       "    </tr>\n",
       "    <tr>\n",
       "      <td>1</td>\n",
       "      <td>xuhui</td>\n",
       "      <td>kangjian</td>\n",
       "      <td>花苑村紫竹园 2室1厅 468万必看好房</td>\n",
       "      <td>468.0</td>\n",
       "      <td>2室1厅</td>\n",
       "      <td>67.11</td>\n",
       "      <td>南</td>\n",
       "      <td>简装</td>\n",
       "      <td>6层</td>\n",
       "      <td>1990</td>\n",
       "      <td>板楼</td>\n",
       "    </tr>\n",
       "    <tr>\n",
       "      <td>2</td>\n",
       "      <td>xuhui</td>\n",
       "      <td>kangjian</td>\n",
       "      <td>南北两房全明户型采光充足 近上海南站地铁站 诚售。必看好房</td>\n",
       "      <td>468.0</td>\n",
       "      <td>2室1厅</td>\n",
       "      <td>68.03</td>\n",
       "      <td>南</td>\n",
       "      <td>精装</td>\n",
       "      <td>低楼层(共6层)</td>\n",
       "      <td>1991</td>\n",
       "      <td>板楼</td>\n",
       "    </tr>\n",
       "    <tr>\n",
       "      <td>3</td>\n",
       "      <td>xuhui</td>\n",
       "      <td>kangjian</td>\n",
       "      <td>桂莘小区 双南双天井 精装三房 近地铁十二号线必看好房</td>\n",
       "      <td>520.0</td>\n",
       "      <td>3室1厅</td>\n",
       "      <td>78.38</td>\n",
       "      <td>南</td>\n",
       "      <td>精装</td>\n",
       "      <td>低楼层(共6层)</td>\n",
       "      <td>1997</td>\n",
       "      <td>板楼</td>\n",
       "    </tr>\n",
       "    <tr>\n",
       "      <td>4</td>\n",
       "      <td>xuhui</td>\n",
       "      <td>kangjian</td>\n",
       "      <td>精装电梯三房，近地铁，双阳台，闹中取静，值得拥有。必看好房</td>\n",
       "      <td>499.0</td>\n",
       "      <td>3室1厅</td>\n",
       "      <td>110.66</td>\n",
       "      <td>东南</td>\n",
       "      <td>精装</td>\n",
       "      <td>28层</td>\n",
       "      <td>1996</td>\n",
       "      <td>塔楼</td>\n",
       "    </tr>\n",
       "  </tbody>\n",
       "</table>\n",
       "</div>"
      ],
      "text/plain": [
       "  district town_name                    description  listed_price layout  \\\n",
       "0    xuhui  kangjian         中间楼层，欧式装修，全明边套净收眼底必看好房         375.0  2室0厅    \n",
       "1    xuhui  kangjian           花苑村紫竹园 2室1厅 468万必看好房         468.0  2室1厅    \n",
       "2    xuhui  kangjian  南北两房全明户型采光充足 近上海南站地铁站 诚售。必看好房         468.0  2室1厅    \n",
       "3    xuhui  kangjian    桂莘小区 双南双天井 精装三房 近地铁十二号线必看好房         520.0  3室1厅    \n",
       "4    xuhui  kangjian  精装电梯三房，近地铁，双阳台，闹中取静，值得拥有。必看好房         499.0  3室1厅    \n",
       "\n",
       "   total_area direction decoration_rate      stairs  built_year building_type  \n",
       "0       53.92        南              精装    中楼层(共4层)         1992            板楼  \n",
       "1       67.11        南              简装          6层         1990            板楼  \n",
       "2       68.03        南              精装    低楼层(共6层)         1991            板楼  \n",
       "3       78.38        南              精装    低楼层(共6层)         1997            板楼  \n",
       "4      110.66       东南              精装         28层         1996            塔楼  "
      ]
     },
     "execution_count": 63,
     "metadata": {},
     "output_type": "execute_result"
    }
   ],
   "source": [
    "data.head()"
   ]
  },
  {
   "cell_type": "code",
   "execution_count": 65,
   "metadata": {},
   "outputs": [
    {
     "data": {
      "text/plain": [
       "district            object\n",
       "town_name           object\n",
       "description         object\n",
       "listed_price       float64\n",
       "layout              object\n",
       "total_area         float64\n",
       "direction           object\n",
       "decoration_rate     object\n",
       "stairs              object\n",
       "built_year           int64\n",
       "building_type       object\n",
       "dtype: object"
      ]
     },
     "execution_count": 65,
     "metadata": {},
     "output_type": "execute_result"
    }
   ],
   "source": [
    "data.dtypes"
   ]
  },
  {
   "cell_type": "code",
   "execution_count": 66,
   "metadata": {},
   "outputs": [],
   "source": [
    "# 把整理好的数据保存\n",
    "data.to_csv(base_path+'reorganized_data/reorganized.csv', index=False)"
   ]
  },
  {
   "cell_type": "code",
   "execution_count": null,
   "metadata": {},
   "outputs": [],
   "source": []
  }
 ],
 "metadata": {
  "kernelspec": {
   "display_name": "Python 3",
   "language": "python",
   "name": "python3"
  },
  "language_info": {
   "codemirror_mode": {
    "name": "ipython",
    "version": 3
   },
   "file_extension": ".py",
   "mimetype": "text/x-python",
   "name": "python",
   "nbconvert_exporter": "python",
   "pygments_lexer": "ipython3",
   "version": "3.7.4"
  }
 },
 "nbformat": 4,
 "nbformat_minor": 2
}
