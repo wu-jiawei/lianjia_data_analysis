{
 "cells": [
  {
   "cell_type": "code",
   "execution_count": 1,
   "metadata": {},
   "outputs": [],
   "source": [
    "%matplotlib inline\n",
    "import numpy as np \n",
    "import pandas as pd \n",
    "from datetime import timedelta\n",
    "import datetime as dt\n",
    "import matplotlib.pyplot as plt\n",
    "import seaborn as sns\n",
    "import xgboost as xgb\n",
    "from sklearn.model_selection import train_test_split\n",
    "from sklearn.decomposition import PCA\n",
    "from sklearn.cluster import MiniBatchKMeans\n",
    "import warnings\n",
    "warnings.filterwarnings('ignore')"
   ]
  },
  {
   "cell_type": "code",
   "execution_count": 2,
   "metadata": {},
   "outputs": [
    {
     "data": {
      "text/html": [
       "<div>\n",
       "<style scoped>\n",
       "    .dataframe tbody tr th:only-of-type {\n",
       "        vertical-align: middle;\n",
       "    }\n",
       "\n",
       "    .dataframe tbody tr th {\n",
       "        vertical-align: top;\n",
       "    }\n",
       "\n",
       "    .dataframe thead th {\n",
       "        text-align: right;\n",
       "    }\n",
       "</style>\n",
       "<table border=\"1\" class=\"dataframe\">\n",
       "  <thead>\n",
       "    <tr style=\"text-align: right;\">\n",
       "      <th></th>\n",
       "      <th>district</th>\n",
       "      <th>town_name</th>\n",
       "      <th>description</th>\n",
       "      <th>listed_price</th>\n",
       "      <th>layout</th>\n",
       "      <th>total_area</th>\n",
       "      <th>direction</th>\n",
       "      <th>decoration_rate</th>\n",
       "      <th>stairs</th>\n",
       "      <th>built_year</th>\n",
       "      <th>...</th>\n",
       "      <th>rooms</th>\n",
       "      <th>living_rooms</th>\n",
       "      <th>floor_height</th>\n",
       "      <th>total_floors</th>\n",
       "      <th>m5w1</th>\n",
       "      <th>near_facilities</th>\n",
       "      <th>historical</th>\n",
       "      <th>log_price</th>\n",
       "      <th>binned_total_floors</th>\n",
       "      <th>living_room_ratio</th>\n",
       "    </tr>\n",
       "  </thead>\n",
       "  <tbody>\n",
       "    <tr>\n",
       "      <td>0</td>\n",
       "      <td>baoshan</td>\n",
       "      <td>zhangmiao</td>\n",
       "      <td>泗塘四村 1室1厅 175万</td>\n",
       "      <td>175.0</td>\n",
       "      <td>1室1厅</td>\n",
       "      <td>41.15</td>\n",
       "      <td>南</td>\n",
       "      <td>简装</td>\n",
       "      <td>中楼层(共6层)</td>\n",
       "      <td>1987-01-01</td>\n",
       "      <td>...</td>\n",
       "      <td>1</td>\n",
       "      <td>1</td>\n",
       "      <td>中</td>\n",
       "      <td>6</td>\n",
       "      <td>不满五</td>\n",
       "      <td>False</td>\n",
       "      <td>False</td>\n",
       "      <td>5.164786</td>\n",
       "      <td>low</td>\n",
       "      <td>1.0</td>\n",
       "    </tr>\n",
       "    <tr>\n",
       "      <td>1</td>\n",
       "      <td>pudong</td>\n",
       "      <td>zhoupu</td>\n",
       "      <td>精致小两房，没有个税，南北通户型 看房方便房主自荐</td>\n",
       "      <td>350.0</td>\n",
       "      <td>2室1厅</td>\n",
       "      <td>72.80</td>\n",
       "      <td>南</td>\n",
       "      <td>精装</td>\n",
       "      <td>高楼层(共6层)</td>\n",
       "      <td>2006-01-01</td>\n",
       "      <td>...</td>\n",
       "      <td>2</td>\n",
       "      <td>1</td>\n",
       "      <td>高</td>\n",
       "      <td>6</td>\n",
       "      <td>不满五</td>\n",
       "      <td>False</td>\n",
       "      <td>False</td>\n",
       "      <td>5.857933</td>\n",
       "      <td>low</td>\n",
       "      <td>0.5</td>\n",
       "    </tr>\n",
       "    <tr>\n",
       "      <td>2</td>\n",
       "      <td>xuhui</td>\n",
       "      <td>changqiao</td>\n",
       "      <td>精装修南北两房、南北花园绿地！</td>\n",
       "      <td>680.0</td>\n",
       "      <td>2室1厅</td>\n",
       "      <td>90.59</td>\n",
       "      <td>南 北</td>\n",
       "      <td>精装</td>\n",
       "      <td>12层</td>\n",
       "      <td>2008-01-01</td>\n",
       "      <td>...</td>\n",
       "      <td>2</td>\n",
       "      <td>1</td>\n",
       "      <td>高</td>\n",
       "      <td>12</td>\n",
       "      <td>不满五</td>\n",
       "      <td>False</td>\n",
       "      <td>False</td>\n",
       "      <td>6.522093</td>\n",
       "      <td>low</td>\n",
       "      <td>0.5</td>\n",
       "    </tr>\n",
       "  </tbody>\n",
       "</table>\n",
       "<p>3 rows × 21 columns</p>\n",
       "</div>"
      ],
      "text/plain": [
       "  district  town_name                description  listed_price layout  \\\n",
       "0  baoshan  zhangmiao             泗塘四村 1室1厅 175万         175.0  1室1厅    \n",
       "1   pudong     zhoupu  精致小两房，没有个税，南北通户型 看房方便房主自荐         350.0  2室1厅    \n",
       "2    xuhui  changqiao            精装修南北两房、南北花园绿地！         680.0  2室1厅    \n",
       "\n",
       "   total_area direction decoration_rate    stairs  built_year  ... rooms  \\\n",
       "0       41.15        南              简装   中楼层(共6层)  1987-01-01  ...     1   \n",
       "1       72.80        南              精装   高楼层(共6层)  2006-01-01  ...     2   \n",
       "2       90.59      南 北              精装        12层  2008-01-01  ...     2   \n",
       "\n",
       "   living_rooms  floor_height total_floors  m5w1 near_facilities  historical  \\\n",
       "0             1             中            6   不满五           False       False   \n",
       "1             1             高            6   不满五           False       False   \n",
       "2             1             高           12   不满五           False       False   \n",
       "\n",
       "   log_price  binned_total_floors living_room_ratio  \n",
       "0   5.164786                  low               1.0  \n",
       "1   5.857933                  low               0.5  \n",
       "2   6.522093                  low               0.5  \n",
       "\n",
       "[3 rows x 21 columns]"
      ]
     },
     "execution_count": 2,
     "metadata": {},
     "output_type": "execute_result"
    }
   ],
   "source": [
    "# 读入数据\n",
    "base_path = './lianjia_data/'\n",
    "data = pd.read_csv(base_path+'preprocessed_data/preprocessed1.csv')\n",
    "data.head(3)"
   ]
  },
  {
   "cell_type": "code",
   "execution_count": 3,
   "metadata": {},
   "outputs": [
    {
     "data": {
      "text/plain": [
       "district                object\n",
       "town_name               object\n",
       "description             object\n",
       "listed_price           float64\n",
       "layout                  object\n",
       "total_area             float64\n",
       "direction               object\n",
       "decoration_rate         object\n",
       "stairs                  object\n",
       "built_year              object\n",
       "building_type           object\n",
       "rooms                    int64\n",
       "living_rooms             int64\n",
       "floor_height            object\n",
       "total_floors             int64\n",
       "m5w1                    object\n",
       "near_facilities           bool\n",
       "historical                bool\n",
       "log_price              float64\n",
       "binned_total_floors     object\n",
       "living_room_ratio      float64\n",
       "dtype: object"
      ]
     },
     "execution_count": 3,
     "metadata": {},
     "output_type": "execute_result"
    }
   ],
   "source": [
    "data.dtypes"
   ]
  },
  {
   "cell_type": "code",
   "execution_count": 4,
   "metadata": {},
   "outputs": [
    {
     "data": {
      "text/plain": [
       "(16198, 21)"
      ]
     },
     "execution_count": 4,
     "metadata": {},
     "output_type": "execute_result"
    }
   ],
   "source": [
    "data.shape"
   ]
  },
  {
   "cell_type": "code",
   "execution_count": 5,
   "metadata": {},
   "outputs": [
    {
     "data": {
      "text/html": [
       "<div>\n",
       "<style scoped>\n",
       "    .dataframe tbody tr th:only-of-type {\n",
       "        vertical-align: middle;\n",
       "    }\n",
       "\n",
       "    .dataframe tbody tr th {\n",
       "        vertical-align: top;\n",
       "    }\n",
       "\n",
       "    .dataframe thead th {\n",
       "        text-align: right;\n",
       "    }\n",
       "</style>\n",
       "<table border=\"1\" class=\"dataframe\">\n",
       "  <thead>\n",
       "    <tr style=\"text-align: right;\">\n",
       "      <th></th>\n",
       "      <th>0</th>\n",
       "      <th>1</th>\n",
       "      <th>2</th>\n",
       "      <th>3</th>\n",
       "      <th>4</th>\n",
       "      <th>5</th>\n",
       "      <th>6</th>\n",
       "      <th>7</th>\n",
       "      <th>8</th>\n",
       "      <th>9</th>\n",
       "      <th>...</th>\n",
       "      <th>16188</th>\n",
       "      <th>16189</th>\n",
       "      <th>16190</th>\n",
       "      <th>16191</th>\n",
       "      <th>16192</th>\n",
       "      <th>16193</th>\n",
       "      <th>16194</th>\n",
       "      <th>16195</th>\n",
       "      <th>16196</th>\n",
       "      <th>16197</th>\n",
       "    </tr>\n",
       "  </thead>\n",
       "  <tbody>\n",
       "    <tr>\n",
       "      <td>district</td>\n",
       "      <td>baoshan</td>\n",
       "      <td>pudong</td>\n",
       "      <td>xuhui</td>\n",
       "      <td>pudong</td>\n",
       "      <td>pudong</td>\n",
       "      <td>baoshan</td>\n",
       "      <td>pudong</td>\n",
       "      <td>baoshan</td>\n",
       "      <td>pudong</td>\n",
       "      <td>minhang</td>\n",
       "      <td>...</td>\n",
       "      <td>baoshan</td>\n",
       "      <td>minhang</td>\n",
       "      <td>xuhui</td>\n",
       "      <td>baoshan</td>\n",
       "      <td>pudong</td>\n",
       "      <td>pudong</td>\n",
       "      <td>xuhui</td>\n",
       "      <td>pudong</td>\n",
       "      <td>baoshan</td>\n",
       "      <td>baoshan</td>\n",
       "    </tr>\n",
       "    <tr>\n",
       "      <td>town_name</td>\n",
       "      <td>zhangmiao</td>\n",
       "      <td>zhoupu</td>\n",
       "      <td>changqiao</td>\n",
       "      <td>xinchang</td>\n",
       "      <td>zhoupu</td>\n",
       "      <td>dachangzhen</td>\n",
       "      <td>jinyang</td>\n",
       "      <td>yanghang</td>\n",
       "      <td>kangqiao</td>\n",
       "      <td>gumei</td>\n",
       "      <td>...</td>\n",
       "      <td>gucun</td>\n",
       "      <td>hanghua</td>\n",
       "      <td>huadongligong</td>\n",
       "      <td>zhangmiao</td>\n",
       "      <td>huinan</td>\n",
       "      <td>weifang</td>\n",
       "      <td>hengshanlu</td>\n",
       "      <td>lujiazui</td>\n",
       "      <td>dahua</td>\n",
       "      <td>dahua</td>\n",
       "    </tr>\n",
       "    <tr>\n",
       "      <td>description</td>\n",
       "      <td>泗塘四村 1室1厅 175万</td>\n",
       "      <td>精致小两房，没有个税，南北通户型 看房方便房主自荐</td>\n",
       "      <td>精装修南北两房、南北花园绿地！</td>\n",
       "      <td>东方冠郡 2室2厅 270万</td>\n",
       "      <td>三轨交汇，中金二期精装小三房，带zhongyang空调</td>\n",
       "      <td>乾溪二村，看房方便，毛坯房，改动空间大</td>\n",
       "      <td>1楼带院子，一梯两户南北通透，近地铁6号线金桥路站必看好房</td>\n",
       "      <td>房子满五唯一，税费少，精装修，有车位，业主诚意出售房主自荐</td>\n",
       "      <td>满五年唯一，看房方便，2010年小区，S3高架，11号线房主自荐</td>\n",
       "      <td>满五唯一  楼层适中  得房率高  近地铁房主自荐</td>\n",
       "      <td>...</td>\n",
       "      <td>笋盘上架 在售的大3房2卫 看房方便 看中价格可以谈</td>\n",
       "      <td>满五唯一，一楼有垫高带花园，精装大三房，户型正气</td>\n",
       "      <td>梅陇五村 2室1厅 360万房主自荐</td>\n",
       "      <td>精装修 双南两房  看房联系维护人</td>\n",
       "      <td>格局方正，楼层好，视野开阔，采光充足</td>\n",
       "      <td>满五不唯一  看房基本方便   总价低   价格空间有</td>\n",
       "      <td>建国西路乌鲁木齐南路小高层公寓+带车位+带电梯 +高一</td>\n",
       "      <td>陆家嘴南向一房，楼层好，诚意卖，2年前精装</td>\n",
       "      <td>此房满五唯一，南北通两房，一楼带花园，采光好</td>\n",
       "      <td>急抛急售房源， 全明户型， 南北直通。</td>\n",
       "    </tr>\n",
       "    <tr>\n",
       "      <td>listed_price</td>\n",
       "      <td>175</td>\n",
       "      <td>350</td>\n",
       "      <td>680</td>\n",
       "      <td>270</td>\n",
       "      <td>425</td>\n",
       "      <td>315</td>\n",
       "      <td>280</td>\n",
       "      <td>355</td>\n",
       "      <td>259</td>\n",
       "      <td>680</td>\n",
       "      <td>...</td>\n",
       "      <td>410</td>\n",
       "      <td>620</td>\n",
       "      <td>360</td>\n",
       "      <td>298</td>\n",
       "      <td>270</td>\n",
       "      <td>369</td>\n",
       "      <td>1450</td>\n",
       "      <td>258</td>\n",
       "      <td>492</td>\n",
       "      <td>445</td>\n",
       "    </tr>\n",
       "    <tr>\n",
       "      <td>layout</td>\n",
       "      <td>1室1厅</td>\n",
       "      <td>2室1厅</td>\n",
       "      <td>2室1厅</td>\n",
       "      <td>2室2厅</td>\n",
       "      <td>3室2厅</td>\n",
       "      <td>2室1厅</td>\n",
       "      <td>2室1厅</td>\n",
       "      <td>2室2厅</td>\n",
       "      <td>2室2厅</td>\n",
       "      <td>3室2厅</td>\n",
       "      <td>...</td>\n",
       "      <td>3室2厅</td>\n",
       "      <td>3室2厅</td>\n",
       "      <td>2室1厅</td>\n",
       "      <td>2室1厅</td>\n",
       "      <td>3室2厅</td>\n",
       "      <td>1室1厅</td>\n",
       "      <td>3室2厅</td>\n",
       "      <td>1室1厅</td>\n",
       "      <td>2室2厅</td>\n",
       "      <td>2室2厅</td>\n",
       "    </tr>\n",
       "    <tr>\n",
       "      <td>total_area</td>\n",
       "      <td>41.15</td>\n",
       "      <td>72.8</td>\n",
       "      <td>90.59</td>\n",
       "      <td>90.96</td>\n",
       "      <td>94.77</td>\n",
       "      <td>78.71</td>\n",
       "      <td>54.72</td>\n",
       "      <td>90.75</td>\n",
       "      <td>72.2</td>\n",
       "      <td>131.4</td>\n",
       "      <td>...</td>\n",
       "      <td>122</td>\n",
       "      <td>129.13</td>\n",
       "      <td>72.57</td>\n",
       "      <td>66.24</td>\n",
       "      <td>113.42</td>\n",
       "      <td>31.1</td>\n",
       "      <td>131.55</td>\n",
       "      <td>30.43</td>\n",
       "      <td>89.51</td>\n",
       "      <td>88.22</td>\n",
       "    </tr>\n",
       "    <tr>\n",
       "      <td>direction</td>\n",
       "      <td>南</td>\n",
       "      <td>南</td>\n",
       "      <td>南 北</td>\n",
       "      <td>南</td>\n",
       "      <td>南 北</td>\n",
       "      <td>南</td>\n",
       "      <td>南 北</td>\n",
       "      <td>南</td>\n",
       "      <td>南 北</td>\n",
       "      <td>南</td>\n",
       "      <td>...</td>\n",
       "      <td>南</td>\n",
       "      <td>南</td>\n",
       "      <td>西南</td>\n",
       "      <td>南</td>\n",
       "      <td>南</td>\n",
       "      <td>南</td>\n",
       "      <td>南</td>\n",
       "      <td>南</td>\n",
       "      <td>南</td>\n",
       "      <td>南 北</td>\n",
       "    </tr>\n",
       "    <tr>\n",
       "      <td>decoration_rate</td>\n",
       "      <td>简装</td>\n",
       "      <td>精装</td>\n",
       "      <td>精装</td>\n",
       "      <td>精装</td>\n",
       "      <td>精装</td>\n",
       "      <td>毛坯</td>\n",
       "      <td>简装</td>\n",
       "      <td>精装</td>\n",
       "      <td>毛坯</td>\n",
       "      <td>简装</td>\n",
       "      <td>...</td>\n",
       "      <td>简装</td>\n",
       "      <td>简装</td>\n",
       "      <td>简装</td>\n",
       "      <td>精装</td>\n",
       "      <td>简装</td>\n",
       "      <td>简装</td>\n",
       "      <td>精装</td>\n",
       "      <td>精装</td>\n",
       "      <td>简装</td>\n",
       "      <td>简装</td>\n",
       "    </tr>\n",
       "    <tr>\n",
       "      <td>stairs</td>\n",
       "      <td>中楼层(共6层)</td>\n",
       "      <td>高楼层(共6层)</td>\n",
       "      <td>12层</td>\n",
       "      <td>中楼层(共6层)</td>\n",
       "      <td>低楼层(共8层)</td>\n",
       "      <td>中楼层(共6层)</td>\n",
       "      <td>低楼层(共6层)</td>\n",
       "      <td>低楼层(共14层)</td>\n",
       "      <td>低楼层(共6层)</td>\n",
       "      <td>中楼层(共7层)</td>\n",
       "      <td>...</td>\n",
       "      <td>中楼层(共11层)</td>\n",
       "      <td>低楼层(共6层)</td>\n",
       "      <td>高楼层(共18层)</td>\n",
       "      <td>中楼层(共6层)</td>\n",
       "      <td>中楼层(共5层)</td>\n",
       "      <td>低楼层(共6层)</td>\n",
       "      <td>高楼层(共10层)</td>\n",
       "      <td>中楼层(共5层)</td>\n",
       "      <td>低楼层(共6层)</td>\n",
       "      <td>高楼层(共6层)</td>\n",
       "    </tr>\n",
       "    <tr>\n",
       "      <td>built_year</td>\n",
       "      <td>1987-01-01</td>\n",
       "      <td>2006-01-01</td>\n",
       "      <td>2008-01-01</td>\n",
       "      <td>2007-01-01</td>\n",
       "      <td>2013-01-01</td>\n",
       "      <td>1997-01-01</td>\n",
       "      <td>1993-01-01</td>\n",
       "      <td>2007-01-01</td>\n",
       "      <td>2010-01-01</td>\n",
       "      <td>1999-01-01</td>\n",
       "      <td>...</td>\n",
       "      <td>2006-01-01</td>\n",
       "      <td>2002-01-01</td>\n",
       "      <td>1995-01-01</td>\n",
       "      <td>1989-01-01</td>\n",
       "      <td>2005-01-01</td>\n",
       "      <td>1985-01-01</td>\n",
       "      <td>1997-01-01</td>\n",
       "      <td>1985-01-01</td>\n",
       "      <td>1999-01-01</td>\n",
       "      <td>2001-01-01</td>\n",
       "    </tr>\n",
       "    <tr>\n",
       "      <td>building_type</td>\n",
       "      <td>板楼</td>\n",
       "      <td>板楼</td>\n",
       "      <td>板楼</td>\n",
       "      <td>板楼</td>\n",
       "      <td>板楼</td>\n",
       "      <td>板楼</td>\n",
       "      <td>板楼</td>\n",
       "      <td>板楼</td>\n",
       "      <td>板楼</td>\n",
       "      <td>板楼</td>\n",
       "      <td>...</td>\n",
       "      <td>板楼</td>\n",
       "      <td>板楼</td>\n",
       "      <td>塔楼</td>\n",
       "      <td>板楼</td>\n",
       "      <td>板楼</td>\n",
       "      <td>板楼</td>\n",
       "      <td>板楼</td>\n",
       "      <td>板楼</td>\n",
       "      <td>板楼</td>\n",
       "      <td>板楼</td>\n",
       "    </tr>\n",
       "    <tr>\n",
       "      <td>rooms</td>\n",
       "      <td>1</td>\n",
       "      <td>2</td>\n",
       "      <td>2</td>\n",
       "      <td>2</td>\n",
       "      <td>3</td>\n",
       "      <td>2</td>\n",
       "      <td>2</td>\n",
       "      <td>2</td>\n",
       "      <td>2</td>\n",
       "      <td>3</td>\n",
       "      <td>...</td>\n",
       "      <td>3</td>\n",
       "      <td>3</td>\n",
       "      <td>2</td>\n",
       "      <td>2</td>\n",
       "      <td>3</td>\n",
       "      <td>1</td>\n",
       "      <td>3</td>\n",
       "      <td>1</td>\n",
       "      <td>2</td>\n",
       "      <td>2</td>\n",
       "    </tr>\n",
       "    <tr>\n",
       "      <td>living_rooms</td>\n",
       "      <td>1</td>\n",
       "      <td>1</td>\n",
       "      <td>1</td>\n",
       "      <td>2</td>\n",
       "      <td>2</td>\n",
       "      <td>1</td>\n",
       "      <td>1</td>\n",
       "      <td>2</td>\n",
       "      <td>2</td>\n",
       "      <td>2</td>\n",
       "      <td>...</td>\n",
       "      <td>2</td>\n",
       "      <td>2</td>\n",
       "      <td>1</td>\n",
       "      <td>1</td>\n",
       "      <td>2</td>\n",
       "      <td>1</td>\n",
       "      <td>2</td>\n",
       "      <td>1</td>\n",
       "      <td>2</td>\n",
       "      <td>2</td>\n",
       "    </tr>\n",
       "    <tr>\n",
       "      <td>floor_height</td>\n",
       "      <td>中</td>\n",
       "      <td>高</td>\n",
       "      <td>高</td>\n",
       "      <td>中</td>\n",
       "      <td>低</td>\n",
       "      <td>中</td>\n",
       "      <td>低</td>\n",
       "      <td>低</td>\n",
       "      <td>低</td>\n",
       "      <td>中</td>\n",
       "      <td>...</td>\n",
       "      <td>中</td>\n",
       "      <td>低</td>\n",
       "      <td>高</td>\n",
       "      <td>中</td>\n",
       "      <td>中</td>\n",
       "      <td>低</td>\n",
       "      <td>高</td>\n",
       "      <td>中</td>\n",
       "      <td>低</td>\n",
       "      <td>高</td>\n",
       "    </tr>\n",
       "    <tr>\n",
       "      <td>total_floors</td>\n",
       "      <td>6</td>\n",
       "      <td>6</td>\n",
       "      <td>12</td>\n",
       "      <td>6</td>\n",
       "      <td>8</td>\n",
       "      <td>6</td>\n",
       "      <td>6</td>\n",
       "      <td>14</td>\n",
       "      <td>6</td>\n",
       "      <td>7</td>\n",
       "      <td>...</td>\n",
       "      <td>11</td>\n",
       "      <td>6</td>\n",
       "      <td>18</td>\n",
       "      <td>6</td>\n",
       "      <td>5</td>\n",
       "      <td>6</td>\n",
       "      <td>10</td>\n",
       "      <td>5</td>\n",
       "      <td>6</td>\n",
       "      <td>6</td>\n",
       "    </tr>\n",
       "    <tr>\n",
       "      <td>m5w1</td>\n",
       "      <td>不满五</td>\n",
       "      <td>不满五</td>\n",
       "      <td>不满五</td>\n",
       "      <td>不满五</td>\n",
       "      <td>不满五</td>\n",
       "      <td>不满五</td>\n",
       "      <td>不满五</td>\n",
       "      <td>满五唯一</td>\n",
       "      <td>满五不唯一</td>\n",
       "      <td>满五唯一</td>\n",
       "      <td>...</td>\n",
       "      <td>不满五</td>\n",
       "      <td>满五唯一</td>\n",
       "      <td>不满五</td>\n",
       "      <td>不满五</td>\n",
       "      <td>不满五</td>\n",
       "      <td>满五不唯一</td>\n",
       "      <td>不满五</td>\n",
       "      <td>不满五</td>\n",
       "      <td>满五唯一</td>\n",
       "      <td>不满五</td>\n",
       "    </tr>\n",
       "    <tr>\n",
       "      <td>near_facilities</td>\n",
       "      <td>False</td>\n",
       "      <td>False</td>\n",
       "      <td>False</td>\n",
       "      <td>False</td>\n",
       "      <td>False</td>\n",
       "      <td>False</td>\n",
       "      <td>True</td>\n",
       "      <td>False</td>\n",
       "      <td>False</td>\n",
       "      <td>True</td>\n",
       "      <td>...</td>\n",
       "      <td>False</td>\n",
       "      <td>False</td>\n",
       "      <td>False</td>\n",
       "      <td>False</td>\n",
       "      <td>False</td>\n",
       "      <td>False</td>\n",
       "      <td>False</td>\n",
       "      <td>False</td>\n",
       "      <td>False</td>\n",
       "      <td>False</td>\n",
       "    </tr>\n",
       "    <tr>\n",
       "      <td>historical</td>\n",
       "      <td>False</td>\n",
       "      <td>False</td>\n",
       "      <td>False</td>\n",
       "      <td>False</td>\n",
       "      <td>False</td>\n",
       "      <td>False</td>\n",
       "      <td>False</td>\n",
       "      <td>False</td>\n",
       "      <td>False</td>\n",
       "      <td>False</td>\n",
       "      <td>...</td>\n",
       "      <td>False</td>\n",
       "      <td>False</td>\n",
       "      <td>False</td>\n",
       "      <td>False</td>\n",
       "      <td>False</td>\n",
       "      <td>False</td>\n",
       "      <td>False</td>\n",
       "      <td>False</td>\n",
       "      <td>False</td>\n",
       "      <td>False</td>\n",
       "    </tr>\n",
       "    <tr>\n",
       "      <td>log_price</td>\n",
       "      <td>5.16479</td>\n",
       "      <td>5.85793</td>\n",
       "      <td>6.52209</td>\n",
       "      <td>5.59842</td>\n",
       "      <td>6.05209</td>\n",
       "      <td>5.75257</td>\n",
       "      <td>5.63479</td>\n",
       "      <td>5.87212</td>\n",
       "      <td>5.55683</td>\n",
       "      <td>6.52209</td>\n",
       "      <td>...</td>\n",
       "      <td>6.01616</td>\n",
       "      <td>6.42972</td>\n",
       "      <td>5.8861</td>\n",
       "      <td>5.69709</td>\n",
       "      <td>5.59842</td>\n",
       "      <td>5.9108</td>\n",
       "      <td>7.27932</td>\n",
       "      <td>5.55296</td>\n",
       "      <td>6.19848</td>\n",
       "      <td>6.09807</td>\n",
       "    </tr>\n",
       "    <tr>\n",
       "      <td>binned_total_floors</td>\n",
       "      <td>low</td>\n",
       "      <td>low</td>\n",
       "      <td>low</td>\n",
       "      <td>low</td>\n",
       "      <td>low</td>\n",
       "      <td>low</td>\n",
       "      <td>low</td>\n",
       "      <td>low</td>\n",
       "      <td>low</td>\n",
       "      <td>low</td>\n",
       "      <td>...</td>\n",
       "      <td>low</td>\n",
       "      <td>low</td>\n",
       "      <td>low</td>\n",
       "      <td>low</td>\n",
       "      <td>low</td>\n",
       "      <td>low</td>\n",
       "      <td>low</td>\n",
       "      <td>low</td>\n",
       "      <td>low</td>\n",
       "      <td>low</td>\n",
       "    </tr>\n",
       "    <tr>\n",
       "      <td>living_room_ratio</td>\n",
       "      <td>1</td>\n",
       "      <td>0.5</td>\n",
       "      <td>0.5</td>\n",
       "      <td>1</td>\n",
       "      <td>0.666667</td>\n",
       "      <td>0.5</td>\n",
       "      <td>0.5</td>\n",
       "      <td>1</td>\n",
       "      <td>1</td>\n",
       "      <td>0.666667</td>\n",
       "      <td>...</td>\n",
       "      <td>0.666667</td>\n",
       "      <td>0.666667</td>\n",
       "      <td>0.5</td>\n",
       "      <td>0.5</td>\n",
       "      <td>0.666667</td>\n",
       "      <td>1</td>\n",
       "      <td>0.666667</td>\n",
       "      <td>1</td>\n",
       "      <td>1</td>\n",
       "      <td>1</td>\n",
       "    </tr>\n",
       "  </tbody>\n",
       "</table>\n",
       "<p>21 rows × 16198 columns</p>\n",
       "</div>"
      ],
      "text/plain": [
       "                              0                          1      \\\n",
       "district                    baoshan                     pudong   \n",
       "town_name                 zhangmiao                     zhoupu   \n",
       "description          泗塘四村 1室1厅 175万  精致小两房，没有个税，南北通户型 看房方便房主自荐   \n",
       "listed_price                    175                        350   \n",
       "layout                        1室1厅                       2室1厅    \n",
       "total_area                    41.15                       72.8   \n",
       "direction                        南                          南    \n",
       "decoration_rate                 简装                         精装    \n",
       "stairs                     中楼层(共6层)                   高楼层(共6层)   \n",
       "built_year               1987-01-01                 2006-01-01   \n",
       "building_type                    板楼                         板楼   \n",
       "rooms                             1                          2   \n",
       "living_rooms                      1                          1   \n",
       "floor_height                      中                          高   \n",
       "total_floors                      6                          6   \n",
       "m5w1                            不满五                        不满五   \n",
       "near_facilities               False                      False   \n",
       "historical                    False                      False   \n",
       "log_price                   5.16479                    5.85793   \n",
       "binned_total_floors             low                        low   \n",
       "living_room_ratio                 1                        0.5   \n",
       "\n",
       "                               2               3      \\\n",
       "district                       xuhui          pudong   \n",
       "town_name                  changqiao        xinchang   \n",
       "description          精装修南北两房、南北花园绿地！  东方冠郡 2室2厅 270万   \n",
       "listed_price                     680             270   \n",
       "layout                         2室1厅            2室2厅    \n",
       "total_area                     90.59           90.96   \n",
       "direction                       南 北               南    \n",
       "decoration_rate                  精装              精装    \n",
       "stairs                           12层        中楼层(共6层)   \n",
       "built_year                2008-01-01      2007-01-01   \n",
       "building_type                     板楼              板楼   \n",
       "rooms                              2               2   \n",
       "living_rooms                       1               2   \n",
       "floor_height                       高               中   \n",
       "total_floors                      12               6   \n",
       "m5w1                             不满五             不满五   \n",
       "near_facilities                False           False   \n",
       "historical                     False           False   \n",
       "log_price                    6.52209         5.59842   \n",
       "binned_total_floors              low             low   \n",
       "living_room_ratio                0.5               1   \n",
       "\n",
       "                                           4                    5      \\\n",
       "district                                  pudong              baoshan   \n",
       "town_name                                 zhoupu          dachangzhen   \n",
       "description          三轨交汇，中金二期精装小三房，带zhongyang空调  乾溪二村，看房方便，毛坯房，改动空间大   \n",
       "listed_price                                 425                  315   \n",
       "layout                                     3室2厅                 2室1厅    \n",
       "total_area                                 94.77                78.71   \n",
       "direction                                   南 北                    南    \n",
       "decoration_rate                              精装                   毛坯    \n",
       "stairs                                  低楼层(共8层)             中楼层(共6层)   \n",
       "built_year                            2013-01-01           1997-01-01   \n",
       "building_type                                 板楼                   板楼   \n",
       "rooms                                          3                    2   \n",
       "living_rooms                                   2                    1   \n",
       "floor_height                                   低                    中   \n",
       "total_floors                                   8                    6   \n",
       "m5w1                                         不满五                  不满五   \n",
       "near_facilities                            False                False   \n",
       "historical                                 False                False   \n",
       "log_price                                6.05209              5.75257   \n",
       "binned_total_floors                          low                  low   \n",
       "living_room_ratio                       0.666667                  0.5   \n",
       "\n",
       "                                             6      \\\n",
       "district                                    pudong   \n",
       "town_name                                  jinyang   \n",
       "description          1楼带院子，一梯两户南北通透，近地铁6号线金桥路站必看好房   \n",
       "listed_price                                   280   \n",
       "layout                                       2室1厅    \n",
       "total_area                                   54.72   \n",
       "direction                                     南 北    \n",
       "decoration_rate                                简装    \n",
       "stairs                                    低楼层(共6层)   \n",
       "built_year                              1993-01-01   \n",
       "building_type                                   板楼   \n",
       "rooms                                            2   \n",
       "living_rooms                                     1   \n",
       "floor_height                                     低   \n",
       "total_floors                                     6   \n",
       "m5w1                                           不满五   \n",
       "near_facilities                               True   \n",
       "historical                                   False   \n",
       "log_price                                  5.63479   \n",
       "binned_total_floors                            low   \n",
       "living_room_ratio                              0.5   \n",
       "\n",
       "                                             7      \\\n",
       "district                                   baoshan   \n",
       "town_name                                 yanghang   \n",
       "description          房子满五唯一，税费少，精装修，有车位，业主诚意出售房主自荐   \n",
       "listed_price                                   355   \n",
       "layout                                       2室2厅    \n",
       "total_area                                   90.75   \n",
       "direction                                       南    \n",
       "decoration_rate                                精装    \n",
       "stairs                                   低楼层(共14层)   \n",
       "built_year                              2007-01-01   \n",
       "building_type                                   板楼   \n",
       "rooms                                            2   \n",
       "living_rooms                                     2   \n",
       "floor_height                                     低   \n",
       "total_floors                                    14   \n",
       "m5w1                                          满五唯一   \n",
       "near_facilities                              False   \n",
       "historical                                   False   \n",
       "log_price                                  5.87212   \n",
       "binned_total_floors                            low   \n",
       "living_room_ratio                                1   \n",
       "\n",
       "                                                8      \\\n",
       "district                                       pudong   \n",
       "town_name                                    kangqiao   \n",
       "description          满五年唯一，看房方便，2010年小区，S3高架，11号线房主自荐   \n",
       "listed_price                                      259   \n",
       "layout                                          2室2厅    \n",
       "total_area                                       72.2   \n",
       "direction                                        南 北    \n",
       "decoration_rate                                   毛坯    \n",
       "stairs                                       低楼层(共6层)   \n",
       "built_year                                 2010-01-01   \n",
       "building_type                                      板楼   \n",
       "rooms                                               2   \n",
       "living_rooms                                        2   \n",
       "floor_height                                        低   \n",
       "total_floors                                        6   \n",
       "m5w1                                            满五不唯一   \n",
       "near_facilities                                 False   \n",
       "historical                                      False   \n",
       "log_price                                     5.55683   \n",
       "binned_total_floors                               low   \n",
       "living_room_ratio                                   1   \n",
       "\n",
       "                                         9      ...  \\\n",
       "district                               minhang  ...   \n",
       "town_name                                gumei  ...   \n",
       "description          满五唯一  楼层适中  得房率高  近地铁房主自荐  ...   \n",
       "listed_price                               680  ...   \n",
       "layout                                   3室2厅   ...   \n",
       "total_area                               131.4  ...   \n",
       "direction                                   南   ...   \n",
       "decoration_rate                            简装   ...   \n",
       "stairs                                中楼层(共7层)  ...   \n",
       "built_year                          1999-01-01  ...   \n",
       "building_type                               板楼  ...   \n",
       "rooms                                        3  ...   \n",
       "living_rooms                                 2  ...   \n",
       "floor_height                                 中  ...   \n",
       "total_floors                                 7  ...   \n",
       "m5w1                                      满五唯一  ...   \n",
       "near_facilities                           True  ...   \n",
       "historical                               False  ...   \n",
       "log_price                              6.52209  ...   \n",
       "binned_total_floors                        low  ...   \n",
       "living_room_ratio                     0.666667  ...   \n",
       "\n",
       "                                          16188                     16189  \\\n",
       "district                                baoshan                   minhang   \n",
       "town_name                                 gucun                   hanghua   \n",
       "description          笋盘上架 在售的大3房2卫 看房方便 看中价格可以谈  满五唯一，一楼有垫高带花园，精装大三房，户型正气   \n",
       "listed_price                                410                       620   \n",
       "layout                                    3室2厅                      3室2厅    \n",
       "total_area                                  122                    129.13   \n",
       "direction                                    南                         南    \n",
       "decoration_rate                             简装                        简装    \n",
       "stairs                                中楼层(共11层)                  低楼层(共6层)   \n",
       "built_year                           2006-01-01                2002-01-01   \n",
       "building_type                                板楼                        板楼   \n",
       "rooms                                         3                         3   \n",
       "living_rooms                                  2                         2   \n",
       "floor_height                                  中                         低   \n",
       "total_floors                                 11                         6   \n",
       "m5w1                                        不满五                      满五唯一   \n",
       "near_facilities                           False                     False   \n",
       "historical                                False                     False   \n",
       "log_price                               6.01616                   6.42972   \n",
       "binned_total_floors                         low                       low   \n",
       "living_room_ratio                      0.666667                  0.666667   \n",
       "\n",
       "                                  16190              16191  \\\n",
       "district                          xuhui            baoshan   \n",
       "town_name                 huadongligong          zhangmiao   \n",
       "description          梅陇五村 2室1厅 360万房主自荐  精装修 双南两房  看房联系维护人   \n",
       "listed_price                        360                298   \n",
       "layout                            2室1厅               2室1厅    \n",
       "total_area                        72.57              66.24   \n",
       "direction                           西南                  南    \n",
       "decoration_rate                     简装                 精装    \n",
       "stairs                        高楼层(共18层)           中楼层(共6层)   \n",
       "built_year                   1995-01-01         1989-01-01   \n",
       "building_type                        塔楼                 板楼   \n",
       "rooms                                 2                  2   \n",
       "living_rooms                          1                  1   \n",
       "floor_height                          高                  中   \n",
       "total_floors                         18                  6   \n",
       "m5w1                                不满五                不满五   \n",
       "near_facilities                   False              False   \n",
       "historical                        False              False   \n",
       "log_price                        5.8861            5.69709   \n",
       "binned_total_floors                 low                low   \n",
       "living_room_ratio                   0.5                0.5   \n",
       "\n",
       "                                  16192                        16193  \\\n",
       "district                         pudong                       pudong   \n",
       "town_name                        huinan                      weifang   \n",
       "description          格局方正，楼层好，视野开阔，采光充足  满五不唯一  看房基本方便   总价低   价格空间有   \n",
       "listed_price                        270                          369   \n",
       "layout                            3室2厅                         1室1厅    \n",
       "total_area                       113.42                         31.1   \n",
       "direction                            南                            南    \n",
       "decoration_rate                     简装                           简装    \n",
       "stairs                         中楼层(共5层)                     低楼层(共6层)   \n",
       "built_year                   2005-01-01                   1985-01-01   \n",
       "building_type                        板楼                           板楼   \n",
       "rooms                                 3                            1   \n",
       "living_rooms                          2                            1   \n",
       "floor_height                          中                            低   \n",
       "total_floors                          5                            6   \n",
       "m5w1                                不满五                        满五不唯一   \n",
       "near_facilities                   False                        False   \n",
       "historical                        False                        False   \n",
       "log_price                       5.59842                       5.9108   \n",
       "binned_total_floors                 low                          low   \n",
       "living_room_ratio              0.666667                            1   \n",
       "\n",
       "                                           16194                  16195  \\\n",
       "district                                   xuhui                 pudong   \n",
       "town_name                             hengshanlu               lujiazui   \n",
       "description          建国西路乌鲁木齐南路小高层公寓+带车位+带电梯 +高一  陆家嘴南向一房，楼层好，诚意卖，2年前精装   \n",
       "listed_price                                1450                    258   \n",
       "layout                                     3室2厅                   1室1厅    \n",
       "total_area                                131.55                  30.43   \n",
       "direction                                     南                      南    \n",
       "decoration_rate                              精装                     精装    \n",
       "stairs                                 高楼层(共10层)               中楼层(共5层)   \n",
       "built_year                            1997-01-01             1985-01-01   \n",
       "building_type                                 板楼                     板楼   \n",
       "rooms                                          3                      1   \n",
       "living_rooms                                   2                      1   \n",
       "floor_height                                   高                      中   \n",
       "total_floors                                  10                      5   \n",
       "m5w1                                         不满五                    不满五   \n",
       "near_facilities                            False                  False   \n",
       "historical                                 False                  False   \n",
       "log_price                                7.27932                5.55296   \n",
       "binned_total_floors                          low                    low   \n",
       "living_room_ratio                       0.666667                      1   \n",
       "\n",
       "                                      16196                16197  \n",
       "district                            baoshan              baoshan  \n",
       "town_name                             dahua                dahua  \n",
       "description          此房满五唯一，南北通两房，一楼带花园，采光好  急抛急售房源， 全明户型， 南北直通。  \n",
       "listed_price                            492                  445  \n",
       "layout                                2室2厅                 2室2厅   \n",
       "total_area                            89.51                88.22  \n",
       "direction                                南                  南 北   \n",
       "decoration_rate                         简装                   简装   \n",
       "stairs                             低楼层(共6层)             高楼层(共6层)  \n",
       "built_year                       1999-01-01           2001-01-01  \n",
       "building_type                            板楼                   板楼  \n",
       "rooms                                     2                    2  \n",
       "living_rooms                              2                    2  \n",
       "floor_height                              低                    高  \n",
       "total_floors                              6                    6  \n",
       "m5w1                                   满五唯一                  不满五  \n",
       "near_facilities                       False                False  \n",
       "historical                            False                False  \n",
       "log_price                           6.19848              6.09807  \n",
       "binned_total_floors                     low                  low  \n",
       "living_room_ratio                         1                    1  \n",
       "\n",
       "[21 rows x 16198 columns]"
      ]
     },
     "execution_count": 5,
     "metadata": {},
     "output_type": "execute_result"
    }
   ],
   "source": [
    "data.T"
   ]
  },
  {
   "cell_type": "markdown",
   "metadata": {},
   "source": [
    "现在来看看要怎么处理地点信息"
   ]
  },
  {
   "cell_type": "code",
   "execution_count": 6,
   "metadata": {},
   "outputs": [
    {
     "data": {
      "text/plain": [
       "district\n",
       "baoshan    1996\n",
       "jiading     149\n",
       "minhang    4409\n",
       "pudong     8371\n",
       "xuhui      1273\n",
       "Name: town_name, dtype: int64"
      ]
     },
     "execution_count": 6,
     "metadata": {},
     "output_type": "execute_result"
    }
   ],
   "source": [
    "house_cnt_per_dist = data.groupby('district').count()['town_name']\n",
    "house_cnt_per_dist"
   ]
  },
  {
   "cell_type": "code",
   "execution_count": 7,
   "metadata": {},
   "outputs": [
    {
     "data": {
      "text/plain": [
       "district\n",
       "baoshan    12\n",
       "jiading     1\n",
       "minhang    16\n",
       "pudong     36\n",
       "xuhui      15\n",
       "Name: town_name, dtype: int64"
      ]
     },
     "execution_count": 7,
     "metadata": {},
     "output_type": "execute_result"
    }
   ],
   "source": [
    "town_cnt_per_dist = data.groupby('district')['town_name'].nunique()\n",
    "town_cnt_per_dist"
   ]
  },
  {
   "cell_type": "code",
   "execution_count": 8,
   "metadata": {},
   "outputs": [],
   "source": [
    "data['price_per_sqm'] = data['listed_price'] / data['total_area']"
   ]
  },
  {
   "cell_type": "code",
   "execution_count": 9,
   "metadata": {},
   "outputs": [
    {
     "data": {
      "text/plain": [
       "80"
      ]
     },
     "execution_count": 9,
     "metadata": {},
     "output_type": "execute_result"
    }
   ],
   "source": [
    "data['town_name'].nunique()"
   ]
  },
  {
   "cell_type": "code",
   "execution_count": 10,
   "metadata": {},
   "outputs": [
    {
     "data": {
      "image/png": "[encoded data removed]",
      "text/plain": [
       "<Figure size 576x432 with 1 Axes>"
      ]
     },
     "metadata": {},
     "output_type": "display_data"
    }
   ],
   "source": [
    "tmp = data.groupby('district')['price_per_sqm'].mean()\n",
    "sns.set()\n",
    "fig, ax = plt.subplots(figsize=(8, 6))\n",
    "ax = sns.barplot(x=tmp.index, y=tmp )"
   ]
  },
  {
   "cell_type": "code",
   "execution_count": 11,
   "metadata": {},
   "outputs": [
    {
     "data": {
      "image/png": "[encoded data removed]",
      "text/plain": [
       "<Figure size 1080x576 with 1 Axes>"
      ]
     },
     "metadata": {},
     "output_type": "display_data"
    }
   ],
   "source": [
    "tmp = data.groupby(['town_name', 'district'])['price_per_sqm'].mean().reset_index('district').sort_values(by='price_per_sqm')\n",
    "#tmp\n",
    "fig, ax = plt.subplots(figsize=(15, 8))\n",
    "ax = sns.barplot(x=tmp.index, y='price_per_sqm', hue='district', data=tmp)"
   ]
  },
  {
   "cell_type": "markdown",
   "metadata": {},
   "source": [
    "可以看到各镇的平均每平米单价虽然有集聚，比如最高在徐汇，浦东，最低在宝山，但中间代表各区的线条杂乱分布，可以猜测相近镇的平均房价亦相近而非仅因处于同一区而比起与外区更接近。由于镇名是区名的细分，所以我们只要保留镇名信息即可。"
   ]
  },
  {
   "cell_type": "code",
   "execution_count": 12,
   "metadata": {},
   "outputs": [
    {
     "data": {
      "text/plain": [
       " 板楼             14753\n",
       " 塔楼               916\n",
       " 板楼 | 独栋别墅        208\n",
       " 板楼 | 联排别墅         97\n",
       " 板塔结合              89\n",
       " 暂无数据              57\n",
       " 板楼 | 双拼别墅         38\n",
       " 板楼 | 叠拼别墅         27\n",
       " 板楼 | 暂无数据别墅        9\n",
       " 平房                 2\n",
       " 塔楼 | 独栋别墅          1\n",
       " 独栋别墅               1\n",
       "Name: building_type, dtype: int64"
      ]
     },
     "execution_count": 12,
     "metadata": {},
     "output_type": "execute_result"
    }
   ],
   "source": [
    "data['building_type'].value_counts()"
   ]
  },
  {
   "cell_type": "markdown",
   "metadata": {},
   "source": [
    "构造两个变量，一是表明楼型是板楼，还是塔楼;二是表明是否是别墅，若是，是何种别墅。"
   ]
  },
  {
   "cell_type": "code",
   "execution_count": 13,
   "metadata": {},
   "outputs": [],
   "source": [
    "data['ban_ta'] = np.nan\n",
    "data['ban_ta'][data['building_type'].str.contains('板楼', regex=False)] = 'banlou'\n",
    "data['ban_ta'][data['building_type'].str.contains('塔楼', regex=False)] = 'talou'\n",
    "data['ban_ta'].fillna(value='banlou', inplace=True)"
   ]
  },
  {
   "cell_type": "code",
   "execution_count": 14,
   "metadata": {},
   "outputs": [],
   "source": [
    "data['house_type'] = np.nan\n",
    "data['house_type'][data['building_type'].str.contains('独栋别墅', regex=False)] = 'dudong'\n",
    "data['house_type'][data['building_type'].str.contains('联排别墅', regex=False)] = 'lianpai'\n",
    "data['house_type'][data['building_type'].str.contains('双拼别墅', regex=False)] = 'shuangpin'\n",
    "data['house_type'][data['building_type'].str.contains('叠拼别墅', regex=False)] = 'diepin'\n",
    "data['house_type'][(data['building_type'].str.contains('别墅', regex=False))&\n",
    "                   (data['house_type'].isnull())] = 'dudong'\n",
    "data['house_type'].fillna(value='putong', inplace=True)"
   ]
  },
  {
   "cell_type": "code",
   "execution_count": 15,
   "metadata": {},
   "outputs": [
    {
     "data": {
      "text/plain": [
       " 精装     8390\n",
       " 简装     5715\n",
       " 毛坯     1499\n",
       " 其他      594\n",
       "Name: decoration_rate, dtype: int64"
      ]
     },
     "execution_count": 15,
     "metadata": {},
     "output_type": "execute_result"
    }
   ],
   "source": [
    "data['decoration_rate'].value_counts()"
   ]
  },
  {
   "cell_type": "code",
   "execution_count": 16,
   "metadata": {},
   "outputs": [],
   "source": [
    "data['decoration_rate'] = data['decoration_rate'].map({' 精装 ':'jingzhuang', ' 简装 ': 'jianzhuang',\n",
    "                                                       ' 毛坯 ': 'maopi'})"
   ]
  },
  {
   "cell_type": "code",
   "execution_count": 17,
   "metadata": {},
   "outputs": [],
   "source": [
    "data['decoration_rate'].fillna(value='jingzhuang', inplace=True)"
   ]
  },
  {
   "cell_type": "code",
   "execution_count": 18,
   "metadata": {},
   "outputs": [],
   "source": [
    "data['M5W1'] = data['m5w1'].map({'满五唯一':'m5w1', '满五不唯一': 'm5bw1', '不满五': 'bm5'})\n",
    "data['floor_height'] = data['floor_height'].map({'低': 'low', '中': 'middle', '高': 'high'})"
   ]
  },
  {
   "cell_type": "markdown",
   "metadata": {},
   "source": [
    "## 离群点"
   ]
  },
  {
   "cell_type": "code",
   "execution_count": 19,
   "metadata": {},
   "outputs": [
    {
     "data": {
      "image/png": "[encoded data removed]",
      "text/plain": [
       "<Figure size 864x432 with 1 Axes>"
      ]
     },
     "metadata": {},
     "output_type": "display_data"
    }
   ],
   "source": [
    "# 看看每平米单位房价\n",
    "fig, ax = plt.subplots(figsize=(12, 6))\n",
    "ax = sns.boxplot( x='district', y='price_per_sqm', hue='house_type', data=data)"
   ]
  },
  {
   "cell_type": "markdown",
   "metadata": {},
   "source": [
    "如果将这里单位房价特别高的数据当成离群点删去，则对此类房子的预测效果可能特别差，因此我们对此不做处理。\n",
    "\n",
    "现在是时候来训练我们的房价回归模型了。\n",
    "\n",
    "## 构造和训练模型"
   ]
  },
  {
   "cell_type": "code",
   "execution_count": 20,
   "metadata": {},
   "outputs": [
    {
     "data": {
      "text/plain": [
       "Index(['district', 'town_name', 'description', 'listed_price', 'layout',\n",
       "       'total_area', 'direction', 'decoration_rate', 'stairs', 'built_year',\n",
       "       'building_type', 'rooms', 'living_rooms', 'floor_height',\n",
       "       'total_floors', 'm5w1', 'near_facilities', 'historical', 'log_price',\n",
       "       'binned_total_floors', 'living_room_ratio', 'price_per_sqm', 'ban_ta',\n",
       "       'house_type', 'M5W1'],\n",
       "      dtype='object')"
      ]
     },
     "execution_count": 20,
     "metadata": {},
     "output_type": "execute_result"
    }
   ],
   "source": [
    "columns = data.columns\n",
    "columns"
   ]
  },
  {
   "cell_type": "code",
   "execution_count": 21,
   "metadata": {},
   "outputs": [],
   "source": [
    "features = ['town_name', 'total_area', 'decoration_rate', 'built_year', 'rooms', 'living_rooms', 'floor_height',\n",
    "            'total_floors', 'near_facilities', 'historical', 'binned_total_floors', 'living_room_ratio', 'ban_ta',\n",
    "            'house_type', 'M5W1']\n",
    "X = data[features]\n",
    "y = data['log_price']"
   ]
  },
  {
   "cell_type": "code",
   "execution_count": 22,
   "metadata": {},
   "outputs": [
    {
     "data": {
      "text/plain": [
       "town_name              0\n",
       "total_area             0\n",
       "decoration_rate        0\n",
       "built_year             0\n",
       "rooms                  0\n",
       "living_rooms           0\n",
       "floor_height           0\n",
       "total_floors           0\n",
       "near_facilities        0\n",
       "historical             0\n",
       "binned_total_floors    0\n",
       "living_room_ratio      0\n",
       "ban_ta                 0\n",
       "house_type             0\n",
       "M5W1                   0\n",
       "dtype: int64"
      ]
     },
     "execution_count": 22,
     "metadata": {},
     "output_type": "execute_result"
    }
   ],
   "source": [
    "X.isnull().sum()"
   ]
  },
  {
   "cell_type": "code",
   "execution_count": 23,
   "metadata": {},
   "outputs": [
    {
     "data": {
      "text/plain": [
       "0"
      ]
     },
     "execution_count": 23,
     "metadata": {},
     "output_type": "execute_result"
    }
   ],
   "source": [
    "y.isnull().sum()"
   ]
  },
  {
   "cell_type": "code",
   "execution_count": 24,
   "metadata": {},
   "outputs": [
    {
     "data": {
      "text/plain": [
       "town_name               object\n",
       "total_area             float64\n",
       "decoration_rate         object\n",
       "built_year              object\n",
       "rooms                    int64\n",
       "living_rooms             int64\n",
       "floor_height            object\n",
       "total_floors             int64\n",
       "near_facilities           bool\n",
       "historical                bool\n",
       "binned_total_floors     object\n",
       "living_room_ratio      float64\n",
       "ban_ta                  object\n",
       "house_type              object\n",
       "M5W1                    object\n",
       "dtype: object"
      ]
     },
     "execution_count": 24,
     "metadata": {},
     "output_type": "execute_result"
    }
   ],
   "source": [
    "X.dtypes"
   ]
  },
  {
   "cell_type": "code",
   "execution_count": 25,
   "metadata": {},
   "outputs": [],
   "source": [
    "X_train, X_test, y_train, y_test = train_test_split(X, y, test_size=0.2, random_state=0)"
   ]
  },
  {
   "cell_type": "code",
   "execution_count": 30,
   "metadata": {},
   "outputs": [],
   "source": [
    "import category_encoders as ce\n",
    "dec_map = {'col': 'decoration_rate', 'mapping': {'jingzhuang': 3, 'jianzhuang': 2, 'maopi': 1}}\n",
    "fh_map = {'col': 'floor_height', 'mapping': {'low':1, 'middle': 2, 'high': 3}}\n",
    "btf_map = {'col': 'binned_total_floors', 'mapping': {'very low': 1, 'low': 2, 'high': 3, 'very high': 4}}\n",
    "mw_map = {'col': 'M5W1', 'mapping': {'bm5': 1, 'm5bw1': 2, 'm5w1': 3 }}\n",
    "ode = ce.OrdinalEncoder(cols=['decoration_rate', 'floor_height', 'binned_total_floors', 'M5W1'], mapping=[\n",
    "    dec_map, fh_map, btf_map, mw_map\n",
    "])\n",
    "X_train = ode.fit_transform(X_train)\n",
    "X_test = ode.transform(X_test)"
   ]
  },
  {
   "cell_type": "code",
   "execution_count": 31,
   "metadata": {},
   "outputs": [],
   "source": [
    "ohe = ce.OneHotEncoder(cols=['near_facilities', 'historical', 'ban_ta', 'house_type'])\n",
    "X_train = ohe.fit_transform(X_train)\n",
    "X_test = ohe.transform(X_test)"
   ]
  },
  {
   "cell_type": "code",
   "execution_count": 33,
   "metadata": {},
   "outputs": [],
   "source": [
    "te = ce.TargetEncoder(cols=['town_name'])\n",
    "te.fit(X_train, y_train)\n",
    "X_train = te.transform(X_train)\n",
    "X_test = te.transform(X_test)"
   ]
  },
  {
   "cell_type": "code",
   "execution_count": 35,
   "metadata": {},
   "outputs": [],
   "source": [
    "X_train['built_year'] = pd.to_datetime(X_train['built_year'])\n",
    "X_test['built_year'] = pd.to_datetime(X_test['built_year'])"
   ]
  },
  {
   "cell_type": "markdown",
   "metadata": {},
   "source": [
    "先训练一个基础的xgboost回归模型"
   ]
  },
  {
   "cell_type": "code",
   "execution_count": 37,
   "metadata": {},
   "outputs": [],
   "source": [
    "def get_model(data, pars, train_par, num_round=200):\n",
    "    \"\"\"给定数据集， 参数， 返回一个训练好的xgboost模型\"\"\"\n",
    "    X_, y_ = data[0], data[1]\n",
    "    X_tr, X_va, y_tr, y_va = train_test_split(X_, y_, test_size=0.2,\n",
    "                                                         random_state=0)\n",
    "    dtrain = xgb.DMatrix(X_tr, label=y_tr)\n",
    "    dvalid = xgb.DMatrix(X_va, label=y_va)\n",
    "    watchlist = [(dtrain, 'train'), (dvalid, 'valid')]\n",
    "    model = xgb.train(pars, dtrain, num_round, evals=watchlist, **train_par)\n",
    "    return model\n",
    "\n",
    "def get_importance(model):\n",
    "    \"\"\"return a DataFrame indicating feature importance\"\"\"\n",
    "    feature_importance = model.get_fscore()\n",
    "    feature_importance = pd.DataFrame({'featurn': list(feature_importance.keys()), \n",
    "                                   'importance': list(feature_importance.values())}\n",
    "                                 ).sort_values(by='importance', ascending=False)\n",
    "    return feature_importance"
   ]
  },
  {
   "cell_type": "code",
   "execution_count": 38,
   "metadata": {},
   "outputs": [],
   "source": [
    "xgb_pars = {'eta': 0.1, 'min_child_weight': 10, 'colsample_bytree': 0.8, 'max_depth': 6,  'gamma': 0,\n",
    "            'subsample': 0.8, 'lambda': 1, 'booster' : 'gbtree', 'verbosity': 1, 'alpha': 0,\n",
    "            'eval_metric': ['rmse'], 'objective': 'reg:squarederror',\n",
    "            } \n",
    "train_par = { 'early_stopping_rounds': 50, 'maximize': False, 'verbose_eval': 20, }"
   ]
  },
  {
   "cell_type": "code",
   "execution_count": 41,
   "metadata": {
    "scrolled": true
   },
   "outputs": [
    {
     "ename": "AttributeError",
     "evalue": "Can only use .dt accessor with datetimelike values",
     "output_type": "error",
     "traceback": [
      "\u001b[0;31m---------------------------------------------------------------------------\u001b[0m",
      "\u001b[0;31mAttributeError\u001b[0m                            Traceback (most recent call last)",
      "\u001b[0;32m<ipython-input-41-fa2356afabd8>\u001b[0m in \u001b[0;36m<module>\u001b[0;34m\u001b[0m\n\u001b[0;32m----> 1\u001b[0;31m \u001b[0mX_train\u001b[0m\u001b[0;34m[\u001b[0m\u001b[0;34m'built_year'\u001b[0m\u001b[0;34m]\u001b[0m \u001b[0;34m=\u001b[0m \u001b[0mX_train\u001b[0m\u001b[0;34m[\u001b[0m\u001b[0;34m'built_year'\u001b[0m\u001b[0;34m]\u001b[0m\u001b[0;34m.\u001b[0m\u001b[0mdt\u001b[0m\u001b[0;34m.\u001b[0m\u001b[0myear\u001b[0m\u001b[0;34m\u001b[0m\u001b[0;34m\u001b[0m\u001b[0m\n\u001b[0m\u001b[1;32m      2\u001b[0m \u001b[0mX_test\u001b[0m\u001b[0;34m[\u001b[0m\u001b[0;34m'built_year'\u001b[0m\u001b[0;34m]\u001b[0m \u001b[0;34m=\u001b[0m \u001b[0mX_test\u001b[0m\u001b[0;34m[\u001b[0m\u001b[0;34m'built_year'\u001b[0m\u001b[0;34m]\u001b[0m\u001b[0;34m.\u001b[0m\u001b[0mdt\u001b[0m\u001b[0;34m.\u001b[0m\u001b[0myear\u001b[0m\u001b[0;34m\u001b[0m\u001b[0;34m\u001b[0m\u001b[0m\n\u001b[1;32m      3\u001b[0m \u001b[0mbase_model\u001b[0m \u001b[0;34m=\u001b[0m \u001b[0mget_model\u001b[0m\u001b[0;34m(\u001b[0m\u001b[0;34m[\u001b[0m\u001b[0mX_train\u001b[0m\u001b[0;34m,\u001b[0m \u001b[0my_train\u001b[0m\u001b[0;34m]\u001b[0m\u001b[0;34m,\u001b[0m \u001b[0mxgb_pars\u001b[0m\u001b[0;34m,\u001b[0m \u001b[0mtrain_par\u001b[0m\u001b[0;34m,\u001b[0m \u001b[0;36m500\u001b[0m\u001b[0;34m)\u001b[0m\u001b[0;34m\u001b[0m\u001b[0;34m\u001b[0m\u001b[0m\n",
      "\u001b[0;32m~/anaconda3/lib/python3.7/site-packages/pandas/core/generic.py\u001b[0m in \u001b[0;36m__getattr__\u001b[0;34m(self, name)\u001b[0m\n\u001b[1;32m   5173\u001b[0m             \u001b[0;32mor\u001b[0m \u001b[0mname\u001b[0m \u001b[0;32min\u001b[0m \u001b[0mself\u001b[0m\u001b[0;34m.\u001b[0m\u001b[0m_accessors\u001b[0m\u001b[0;34m\u001b[0m\u001b[0;34m\u001b[0m\u001b[0m\n\u001b[1;32m   5174\u001b[0m         ):\n\u001b[0;32m-> 5175\u001b[0;31m             \u001b[0;32mreturn\u001b[0m \u001b[0mobject\u001b[0m\u001b[0;34m.\u001b[0m\u001b[0m__getattribute__\u001b[0m\u001b[0;34m(\u001b[0m\u001b[0mself\u001b[0m\u001b[0;34m,\u001b[0m \u001b[0mname\u001b[0m\u001b[0;34m)\u001b[0m\u001b[0;34m\u001b[0m\u001b[0;34m\u001b[0m\u001b[0m\n\u001b[0m\u001b[1;32m   5176\u001b[0m         \u001b[0;32melse\u001b[0m\u001b[0;34m:\u001b[0m\u001b[0;34m\u001b[0m\u001b[0;34m\u001b[0m\u001b[0m\n\u001b[1;32m   5177\u001b[0m             \u001b[0;32mif\u001b[0m \u001b[0mself\u001b[0m\u001b[0;34m.\u001b[0m\u001b[0m_info_axis\u001b[0m\u001b[0;34m.\u001b[0m\u001b[0m_can_hold_identifiers_and_holds_name\u001b[0m\u001b[0;34m(\u001b[0m\u001b[0mname\u001b[0m\u001b[0;34m)\u001b[0m\u001b[0;34m:\u001b[0m\u001b[0;34m\u001b[0m\u001b[0;34m\u001b[0m\u001b[0m\n",
      "\u001b[0;32m~/anaconda3/lib/python3.7/site-packages/pandas/core/accessor.py\u001b[0m in \u001b[0;36m__get__\u001b[0;34m(self, obj, cls)\u001b[0m\n\u001b[1;32m    173\u001b[0m             \u001b[0;31m# we're accessing the attribute of the class, i.e., Dataset.geo\u001b[0m\u001b[0;34m\u001b[0m\u001b[0;34m\u001b[0m\u001b[0;34m\u001b[0m\u001b[0m\n\u001b[1;32m    174\u001b[0m             \u001b[0;32mreturn\u001b[0m \u001b[0mself\u001b[0m\u001b[0;34m.\u001b[0m\u001b[0m_accessor\u001b[0m\u001b[0;34m\u001b[0m\u001b[0;34m\u001b[0m\u001b[0m\n\u001b[0;32m--> 175\u001b[0;31m         \u001b[0maccessor_obj\u001b[0m \u001b[0;34m=\u001b[0m \u001b[0mself\u001b[0m\u001b[0;34m.\u001b[0m\u001b[0m_accessor\u001b[0m\u001b[0;34m(\u001b[0m\u001b[0mobj\u001b[0m\u001b[0;34m)\u001b[0m\u001b[0;34m\u001b[0m\u001b[0;34m\u001b[0m\u001b[0m\n\u001b[0m\u001b[1;32m    176\u001b[0m         \u001b[0;31m# Replace the property with the accessor object. Inspired by:\u001b[0m\u001b[0;34m\u001b[0m\u001b[0;34m\u001b[0m\u001b[0;34m\u001b[0m\u001b[0m\n\u001b[1;32m    177\u001b[0m         \u001b[0;31m# http://www.pydanny.com/cached-property.html\u001b[0m\u001b[0;34m\u001b[0m\u001b[0;34m\u001b[0m\u001b[0;34m\u001b[0m\u001b[0m\n",
      "\u001b[0;32m~/anaconda3/lib/python3.7/site-packages/pandas/core/indexes/accessors.py\u001b[0m in \u001b[0;36m__new__\u001b[0;34m(cls, data)\u001b[0m\n\u001b[1;32m    341\u001b[0m             \u001b[0;32mpass\u001b[0m  \u001b[0;31m# we raise an attribute error anyway\u001b[0m\u001b[0;34m\u001b[0m\u001b[0;34m\u001b[0m\u001b[0m\n\u001b[1;32m    342\u001b[0m \u001b[0;34m\u001b[0m\u001b[0m\n\u001b[0;32m--> 343\u001b[0;31m         \u001b[0;32mraise\u001b[0m \u001b[0mAttributeError\u001b[0m\u001b[0;34m(\u001b[0m\u001b[0;34m\"Can only use .dt accessor with datetimelike \"\u001b[0m \u001b[0;34m\"values\"\u001b[0m\u001b[0;34m)\u001b[0m\u001b[0;34m\u001b[0m\u001b[0;34m\u001b[0m\u001b[0m\n\u001b[0m",
      "\u001b[0;31mAttributeError\u001b[0m: Can only use .dt accessor with datetimelike values"
     ]
    }
   ],
   "source": [
    "X_train['built_year'] = X_train['built_year'].dt.year\n",
    "X_test['built_year'] = X_test['built_year'].dt.year\n"
   ]
  },
  {
   "cell_type": "code",
   "execution_count": 44,
   "metadata": {},
   "outputs": [
    {
     "name": "stdout",
     "output_type": "stream",
     "text": [
      "[0]\ttrain-rmse:5.06518\tvalid-rmse:5.08178\n",
      "Multiple eval metrics have been passed: 'valid-rmse' will be used for early stopping.\n",
      "\n",
      "Will train until valid-rmse hasn't improved in 50 rounds.\n",
      "[20]\ttrain-rmse:0.659114\tvalid-rmse:0.666215\n",
      "[40]\ttrain-rmse:0.199152\tvalid-rmse:0.208117\n",
      "[60]\ttrain-rmse:0.166637\tvalid-rmse:0.177032\n",
      "[80]\ttrain-rmse:0.154515\tvalid-rmse:0.167038\n",
      "[100]\ttrain-rmse:0.143343\tvalid-rmse:0.158563\n",
      "[120]\ttrain-rmse:0.137601\tvalid-rmse:0.154222\n",
      "[140]\ttrain-rmse:0.132171\tvalid-rmse:0.150704\n",
      "[160]\ttrain-rmse:0.127531\tvalid-rmse:0.147338\n",
      "[180]\ttrain-rmse:0.123405\tvalid-rmse:0.14447\n",
      "[200]\ttrain-rmse:0.120218\tvalid-rmse:0.142615\n",
      "[220]\ttrain-rmse:0.116986\tvalid-rmse:0.140886\n",
      "[240]\ttrain-rmse:0.114344\tvalid-rmse:0.139299\n",
      "[260]\ttrain-rmse:0.111808\tvalid-rmse:0.138207\n",
      "[280]\ttrain-rmse:0.109662\tvalid-rmse:0.137225\n",
      "[300]\ttrain-rmse:0.107668\tvalid-rmse:0.136221\n",
      "[320]\ttrain-rmse:0.105567\tvalid-rmse:0.13557\n",
      "[340]\ttrain-rmse:0.103918\tvalid-rmse:0.135135\n",
      "[360]\ttrain-rmse:0.102498\tvalid-rmse:0.134636\n",
      "[380]\ttrain-rmse:0.100862\tvalid-rmse:0.133913\n",
      "[400]\ttrain-rmse:0.098984\tvalid-rmse:0.133223\n",
      "[420]\ttrain-rmse:0.097644\tvalid-rmse:0.132612\n",
      "[440]\ttrain-rmse:0.096295\tvalid-rmse:0.132271\n",
      "[460]\ttrain-rmse:0.095016\tvalid-rmse:0.13183\n",
      "[480]\ttrain-rmse:0.093625\tvalid-rmse:0.131468\n",
      "[500]\ttrain-rmse:0.092443\tvalid-rmse:0.131191\n",
      "[520]\ttrain-rmse:0.091299\tvalid-rmse:0.130973\n",
      "[540]\ttrain-rmse:0.090005\tvalid-rmse:0.130688\n",
      "[560]\ttrain-rmse:0.088926\tvalid-rmse:0.130507\n",
      "[580]\ttrain-rmse:0.08776\tvalid-rmse:0.130152\n",
      "[600]\ttrain-rmse:0.086697\tvalid-rmse:0.129932\n",
      "[620]\ttrain-rmse:0.085544\tvalid-rmse:0.129712\n",
      "[640]\ttrain-rmse:0.084622\tvalid-rmse:0.129784\n",
      "[660]\ttrain-rmse:0.083695\tvalid-rmse:0.129599\n",
      "[680]\ttrain-rmse:0.082681\tvalid-rmse:0.129346\n",
      "[700]\ttrain-rmse:0.081889\tvalid-rmse:0.129242\n",
      "[720]\ttrain-rmse:0.081083\tvalid-rmse:0.129001\n",
      "[740]\ttrain-rmse:0.080265\tvalid-rmse:0.129035\n",
      "[760]\ttrain-rmse:0.079504\tvalid-rmse:0.128988\n",
      "[780]\ttrain-rmse:0.078759\tvalid-rmse:0.12894\n",
      "[800]\ttrain-rmse:0.07811\tvalid-rmse:0.128861\n",
      "[820]\ttrain-rmse:0.077243\tvalid-rmse:0.128709\n",
      "[840]\ttrain-rmse:0.076632\tvalid-rmse:0.128528\n",
      "[860]\ttrain-rmse:0.075699\tvalid-rmse:0.128538\n",
      "[880]\ttrain-rmse:0.074969\tvalid-rmse:0.128498\n",
      "[900]\ttrain-rmse:0.074287\tvalid-rmse:0.128388\n",
      "[920]\ttrain-rmse:0.073671\tvalid-rmse:0.128385\n",
      "[940]\ttrain-rmse:0.073031\tvalid-rmse:0.12832\n",
      "[960]\ttrain-rmse:0.072375\tvalid-rmse:0.128253\n",
      "[980]\ttrain-rmse:0.071887\tvalid-rmse:0.128199\n",
      "[1000]\ttrain-rmse:0.071175\tvalid-rmse:0.128054\n",
      "[1020]\ttrain-rmse:0.070569\tvalid-rmse:0.127997\n",
      "[1040]\ttrain-rmse:0.069787\tvalid-rmse:0.128028\n",
      "[1060]\ttrain-rmse:0.06913\tvalid-rmse:0.128065\n",
      "Stopping. Best iteration:\n",
      "[1013]\ttrain-rmse:0.070839\tvalid-rmse:0.127987\n",
      "\n"
     ]
    }
   ],
   "source": [
    "base_model = get_model([X_train, y_train], xgb_pars, train_par, 2000)"
   ]
  },
  {
   "cell_type": "code",
   "execution_count": 46,
   "metadata": {},
   "outputs": [
    {
     "data": {
      "text/plain": [
       "0.018941754380034228"
      ]
     },
     "execution_count": 46,
     "metadata": {},
     "output_type": "execute_result"
    }
   ],
   "source": [
    "from sklearn.metrics import mean_squared_error\n",
    "dtest = xgb.DMatrix(X_test)\n",
    "y_pred = base_model.predict(dtest)\n",
    "mean_squared_error(y_test, y_pred)\n"
   ]
  },
  {
   "cell_type": "code",
   "execution_count": 48,
   "metadata": {},
   "outputs": [
    {
     "data": {
      "text/plain": [
       "72.59789535004415"
      ]
     },
     "execution_count": 48,
     "metadata": {},
     "output_type": "execute_result"
    }
   ],
   "source": [
    "from sklearn.metrics import mean_absolute_error\n",
    "mean_absolute_error(np.exp(y_test), np.exp(y_pred))"
   ]
  },
  {
   "cell_type": "markdown",
   "metadata": {},
   "source": [
    "可以看到平均挂牌价预测值与实际值之间竟然有72万，这是很大的差距了。这说明我们的这个基础模型表现不好。现将它保存。"
   ]
  },
  {
   "cell_type": "code",
   "execution_count": 51,
   "metadata": {},
   "outputs": [],
   "source": [
    "base_model.save_model('./base_xgb.model')"
   ]
  },
  {
   "cell_type": "markdown",
   "metadata": {},
   "source": [
    "来试着改进这个模型"
   ]
  },
  {
   "cell_type": "code",
   "execution_count": 228,
   "metadata": {},
   "outputs": [
    {
     "name": "stdout",
     "output_type": "stream",
     "text": [
      "[0]\ttrain-rmse:5.34695\tvalid-rmse:5.36356\n",
      "Multiple eval metrics have been passed: 'valid-rmse' will be used for early stopping.\n",
      "\n",
      "Will train until valid-rmse hasn't improved in 50 rounds.\n",
      "[100]\ttrain-rmse:0.186191\tvalid-rmse:0.195252\n",
      "[200]\ttrain-rmse:0.151204\tvalid-rmse:0.165226\n",
      "[300]\ttrain-rmse:0.133231\tvalid-rmse:0.152168\n",
      "[400]\ttrain-rmse:0.123248\tvalid-rmse:0.145865\n",
      "[500]\ttrain-rmse:0.113953\tvalid-rmse:0.140416\n",
      "[600]\ttrain-rmse:0.108375\tvalid-rmse:0.137465\n",
      "[700]\ttrain-rmse:0.102707\tvalid-rmse:0.134985\n",
      "[800]\ttrain-rmse:0.098724\tvalid-rmse:0.133385\n",
      "[900]\ttrain-rmse:0.094762\tvalid-rmse:0.13182\n",
      "[1000]\ttrain-rmse:0.091756\tvalid-rmse:0.13084\n",
      "[1100]\ttrain-rmse:0.088809\tvalid-rmse:0.129955\n",
      "[1200]\ttrain-rmse:0.086269\tvalid-rmse:0.129347\n",
      "[1300]\ttrain-rmse:0.083883\tvalid-rmse:0.128893\n",
      "[1400]\ttrain-rmse:0.082033\tvalid-rmse:0.128503\n",
      "[1500]\ttrain-rmse:0.079967\tvalid-rmse:0.128161\n",
      "[1600]\ttrain-rmse:0.078243\tvalid-rmse:0.127801\n",
      "[1700]\ttrain-rmse:0.076109\tvalid-rmse:0.127411\n",
      "[1800]\ttrain-rmse:0.07439\tvalid-rmse:0.127251\n",
      "[1900]\ttrain-rmse:0.072921\tvalid-rmse:0.127003\n",
      "[2000]\ttrain-rmse:0.07163\tvalid-rmse:0.126746\n",
      "[2100]\ttrain-rmse:0.070231\tvalid-rmse:0.126545\n",
      "[2200]\ttrain-rmse:0.068976\tvalid-rmse:0.126396\n",
      "[2300]\ttrain-rmse:0.067709\tvalid-rmse:0.126249\n",
      "[2400]\ttrain-rmse:0.066185\tvalid-rmse:0.126105\n",
      "[2500]\ttrain-rmse:0.065047\tvalid-rmse:0.125966\n",
      "[2600]\ttrain-rmse:0.063934\tvalid-rmse:0.125876\n",
      "[2700]\ttrain-rmse:0.062786\tvalid-rmse:0.125791\n",
      "Stopping. Best iteration:\n",
      "[2725]\ttrain-rmse:0.062522\tvalid-rmse:0.125786\n",
      "\n"
     ]
    }
   ],
   "source": [
    "xgb_pars = {'eta': 0.05, 'min_child_weight': 10, 'colsample_bytree': 0.8, 'max_depth': 7,  'gamma': 0,\n",
    "            'subsample': 1, 'lambda': 14, 'booster' : 'gbtree', 'verbosity': 1, 'alpha': 0,\n",
    "            'eval_metric': ['rmse'], 'objective': 'reg:squarederror',\n",
    "            } \n",
    "train_par = { 'early_stopping_rounds': 50, 'maximize': False, 'verbose_eval': 100, }\n",
    "model1 = get_model([X_train, y_train], xgb_pars, train_par, 5000)"
   ]
  },
  {
   "cell_type": "code",
   "execution_count": 229,
   "metadata": {},
   "outputs": [],
   "source": [
    "# 经过不断调参，找到了上面的模型，来从新训练一下\n",
    "dtrain = xgb.DMatrix(X_train, label=y_train)\n",
    "best_xgb = xgb.train(xgb_pars, dtrain, 2725)"
   ]
  },
  {
   "cell_type": "code",
   "execution_count": 230,
   "metadata": {},
   "outputs": [
    {
     "data": {
      "text/plain": [
       "70.42655120096087"
      ]
     },
     "execution_count": 230,
     "metadata": {},
     "output_type": "execute_result"
    }
   ],
   "source": [
    "y_pred = best_xgb.predict(dtest)\n",
    "mean_absolute_error(np.exp(y_test), np.exp(y_pred))"
   ]
  },
  {
   "cell_type": "markdown",
   "metadata": {},
   "source": [
    "平均挂牌价差距减小了一点， 但还是很大，我们来试着将训练集中的单价特别高的房子去除。"
   ]
  },
  {
   "cell_type": "code",
   "execution_count": 244,
   "metadata": {},
   "outputs": [],
   "source": [
    "tmp = y_train / X_train['total_area']\n",
    "index = tmp[((tmp-tmp.mean())> 3*tmp.std())].index\n",
    "X_train.drop(index, axis=0, inplace=True)\n",
    "y_train.drop(index, axis=0, inplace=True)"
   ]
  },
  {
   "cell_type": "code",
   "execution_count": 381,
   "metadata": {},
   "outputs": [
    {
     "name": "stdout",
     "output_type": "stream",
     "text": [
      "[0]\ttrain-rmse:5.24304\tvalid-rmse:5.24472\n",
      "Multiple eval metrics have been passed: 'valid-rmse' will be used for early stopping.\n",
      "\n",
      "Will train until valid-rmse hasn't improved in 50 rounds.\n",
      "[100]\ttrain-rmse:0.159894\tvalid-rmse:0.171171\n",
      "[200]\ttrain-rmse:0.125016\tvalid-rmse:0.145115\n",
      "[300]\ttrain-rmse:0.108516\tvalid-rmse:0.135352\n",
      "[400]\ttrain-rmse:0.098732\tvalid-rmse:0.130875\n",
      "[500]\ttrain-rmse:0.090826\tvalid-rmse:0.127954\n",
      "[600]\ttrain-rmse:0.084184\tvalid-rmse:0.126173\n",
      "[700]\ttrain-rmse:0.078858\tvalid-rmse:0.124993\n",
      "[800]\ttrain-rmse:0.07421\tvalid-rmse:0.124321\n",
      "[900]\ttrain-rmse:0.070188\tvalid-rmse:0.123902\n",
      "[1000]\ttrain-rmse:0.066318\tvalid-rmse:0.12352\n",
      "[1100]\ttrain-rmse:0.063119\tvalid-rmse:0.123235\n",
      "[1200]\ttrain-rmse:0.060162\tvalid-rmse:0.123028\n",
      "[1300]\ttrain-rmse:0.057377\tvalid-rmse:0.122976\n",
      "[1400]\ttrain-rmse:0.054896\tvalid-rmse:0.122866\n",
      "[1500]\ttrain-rmse:0.052524\tvalid-rmse:0.122691\n",
      "[1600]\ttrain-rmse:0.050501\tvalid-rmse:0.12258\n",
      "Stopping. Best iteration:\n",
      "[1621]\ttrain-rmse:0.05005\tvalid-rmse:0.122538\n",
      "\n"
     ]
    }
   ],
   "source": [
    "xgb_pars = {'eta': 0.07, 'min_child_weight': 2, 'colsample_bytree': 0.8, 'max_depth': 7,  'gamma': 0,\n",
    "            'subsample': 0.95, 'lambda': 9.5, 'booster' : 'gbtree', 'verbosity': 1, 'alpha': 0,\n",
    "            'eval_metric': ['rmse'], 'objective': 'reg:squarederror',\n",
    "            } \n",
    "train_par = { 'early_stopping_rounds': 50, 'maximize': False, 'verbose_eval': 100, }\n",
    "model2 = get_model([X_train, y_train], xgb_pars, train_par, 5000)"
   ]
  },
  {
   "cell_type": "code",
   "execution_count": 383,
   "metadata": {},
   "outputs": [],
   "source": [
    "dtrain = xgb.DMatrix(X_train, label=y_train)\n",
    "bst = xgb.train(xgb_pars, dtrain, 1621)"
   ]
  },
  {
   "cell_type": "code",
   "execution_count": 384,
   "metadata": {},
   "outputs": [
    {
     "data": {
      "text/plain": [
       "70.47397080268388"
      ]
     },
     "execution_count": 384,
     "metadata": {},
     "output_type": "execute_result"
    }
   ],
   "source": [
    "y_pred = bst.predict(dtest)\n",
    "mean_absolute_error(np.exp(y_test), np.exp(y_pred))"
   ]
  },
  {
   "cell_type": "code",
   "execution_count": 385,
   "metadata": {},
   "outputs": [
    {
     "data": {
      "text/plain": [
       "<matplotlib.axes._subplots.AxesSubplot at 0x7f1e6005fc90>"
      ]
     },
     "execution_count": 385,
     "metadata": {},
     "output_type": "execute_result"
    },
    {
     "data": {
      "image/png": "[encoded data removed]",
      "text/plain": [
       "<Figure size 432x288 with 1 Axes>"
      ]
     },
     "metadata": {},
     "output_type": "display_data"
    }
   ],
   "source": [
    "xgb.plot_importance(bst)"
   ]
  },
  {
   "cell_type": "code",
   "execution_count": 389,
   "metadata": {},
   "outputs": [
    {
     "name": "stdout",
     "output_type": "stream",
     "text": [
      "[0]\ttrain-rmse:5.24304\tvalid-rmse:5.24472\n",
      "Multiple eval metrics have been passed: 'valid-rmse' will be used for early stopping.\n",
      "\n",
      "Will train until valid-rmse hasn't improved in 50 rounds.\n",
      "[100]\ttrain-rmse:0.158069\tvalid-rmse:0.169856\n",
      "[200]\ttrain-rmse:0.125148\tvalid-rmse:0.145745\n",
      "[300]\ttrain-rmse:0.109428\tvalid-rmse:0.136378\n",
      "[400]\ttrain-rmse:0.099063\tvalid-rmse:0.131334\n",
      "[500]\ttrain-rmse:0.091006\tvalid-rmse:0.12816\n",
      "[600]\ttrain-rmse:0.084706\tvalid-rmse:0.126618\n",
      "[700]\ttrain-rmse:0.07937\tvalid-rmse:0.125351\n",
      "[800]\ttrain-rmse:0.074993\tvalid-rmse:0.124467\n",
      "[900]\ttrain-rmse:0.071384\tvalid-rmse:0.1242\n",
      "[1000]\ttrain-rmse:0.067773\tvalid-rmse:0.123569\n",
      "[1100]\ttrain-rmse:0.06483\tvalid-rmse:0.123304\n",
      "[1200]\ttrain-rmse:0.06187\tvalid-rmse:0.123038\n",
      "[1300]\ttrain-rmse:0.059095\tvalid-rmse:0.122827\n",
      "[1400]\ttrain-rmse:0.057039\tvalid-rmse:0.122773\n",
      "Stopping. Best iteration:\n",
      "[1401]\ttrain-rmse:0.056986\tvalid-rmse:0.122767\n",
      "\n"
     ]
    }
   ],
   "source": [
    "X_train3 = X_train.drop(['M5W1', 'historical_1', 'historical_2', 'near_facilities_1', 'near_facilities_2'], axis=1)\n",
    "model3 = get_model([X_train3, y_train], xgb_pars, train_par, 5000)"
   ]
  },
  {
   "cell_type": "markdown",
   "metadata": {},
   "source": [
    "我们之前为了使挂牌价的分布更加正态而对其取了对数，现在试着直接对挂牌价进行拟合。"
   ]
  },
  {
   "cell_type": "code",
   "execution_count": 395,
   "metadata": {},
   "outputs": [],
   "source": [
    "y = data['listed_price']\n",
    "X_train, X_test, y_train, y_test = train_test_split(X, y, test_size=0.2, random_state=0)\n",
    "mean = data['price_per_sqm'][X_train.index].mean()\n",
    "std = data['price_per_sqm'][X_train.index].std()\n",
    "index = X_train[(data['price_per_sqm'][X_train.index]-mean)>3*std].index\n",
    "X_train.drop(index, axis=0, inplace=True)\n",
    "y_train.drop(index, axis=0, inplace=True)\n"
   ]
  },
  {
   "cell_type": "code",
   "execution_count": 396,
   "metadata": {},
   "outputs": [],
   "source": [
    "ode = ce.OrdinalEncoder(cols=['decoration_rate', 'floor_height', 'binned_total_floors', 'M5W1'], mapping=[\n",
    "    dec_map, fh_map, btf_map, mw_map\n",
    "])\n",
    "X_train = ode.fit_transform(X_train)\n",
    "X_test = ode.transform(X_test)"
   ]
  },
  {
   "cell_type": "code",
   "execution_count": 397,
   "metadata": {},
   "outputs": [],
   "source": [
    "ohe = ce.OneHotEncoder(cols=['near_facilities', 'historical', 'ban_ta', 'house_type'])\n",
    "X_train = ohe.fit_transform(X_train)\n",
    "X_test = ohe.transform(X_test)"
   ]
  },
  {
   "cell_type": "code",
   "execution_count": 398,
   "metadata": {},
   "outputs": [],
   "source": [
    "te = ce.TargetEncoder(cols=['town_name'])\n",
    "te.fit(X_train, data['price_per_sqm'][X_train.index])\n",
    "X_train = te.transform(X_train)\n",
    "X_test = te.transform(X_test)"
   ]
  },
  {
   "cell_type": "code",
   "execution_count": 400,
   "metadata": {},
   "outputs": [],
   "source": [
    "X_train['built_year'] = pd.to_datetime(X_train['built_year']).dt.year\n",
    "X_test['built_year'] = pd.to_datetime(X_test['built_year']).dt.year"
   ]
  },
  {
   "cell_type": "code",
   "execution_count": 402,
   "metadata": {},
   "outputs": [
    {
     "name": "stdout",
     "output_type": "stream",
     "text": [
      "[0]\ttrain-mae:506.335\tvalid-mae:532.021\n",
      "Multiple eval metrics have been passed: 'valid-mae' will be used for early stopping.\n",
      "\n",
      "Will train until valid-mae hasn't improved in 50 rounds.\n",
      "[100]\ttrain-mae:53.1777\tvalid-mae:67.0209\n",
      "[200]\ttrain-mae:47.7167\tvalid-mae:64.5038\n",
      "[300]\ttrain-mae:42.6336\tvalid-mae:62.0351\n",
      "[400]\ttrain-mae:38.8161\tvalid-mae:60.6269\n",
      "[500]\ttrain-mae:35.586\tvalid-mae:59.9418\n",
      "[600]\ttrain-mae:32.9632\tvalid-mae:59.273\n",
      "[700]\ttrain-mae:30.6146\tvalid-mae:58.7232\n",
      "[800]\ttrain-mae:28.7\tvalid-mae:58.4132\n",
      "[900]\ttrain-mae:27.002\tvalid-mae:58.0423\n",
      "[1000]\ttrain-mae:25.3696\tvalid-mae:57.8437\n",
      "[1100]\ttrain-mae:24.0777\tvalid-mae:57.7281\n",
      "[1200]\ttrain-mae:22.8146\tvalid-mae:57.6022\n",
      "[1300]\ttrain-mae:21.5253\tvalid-mae:57.513\n",
      "[1400]\ttrain-mae:20.3333\tvalid-mae:57.3929\n",
      "Stopping. Best iteration:\n",
      "[1426]\ttrain-mae:20.0906\tvalid-mae:57.3512\n",
      "\n"
     ]
    }
   ],
   "source": [
    "xgb_pars = {'eta': 0.07, 'min_child_weight': 2, 'colsample_bytree': 0.8, 'max_depth': 7,  'gamma': 0,\n",
    "            'subsample': 0.95, 'lambda': 9.5, 'booster' : 'gbtree', 'verbosity': 1, 'alpha': 0,\n",
    "            'eval_metric': ['mae'], 'objective': 'reg:squarederror',\n",
    "            } \n",
    "train_par = { 'early_stopping_rounds': 50, 'maximize': False, 'verbose_eval': 100, }\n",
    "model4 = get_model([X_train, y_train], xgb_pars, train_par, 5000)"
   ]
  },
  {
   "cell_type": "code",
   "execution_count": 403,
   "metadata": {},
   "outputs": [
    {
     "data": {
      "text/plain": [
       "88.63847603880329"
      ]
     },
     "execution_count": 403,
     "metadata": {},
     "output_type": "execute_result"
    }
   ],
   "source": [
    "dtest = xgb.DMatrix(X_test)\n",
    "y_pred = model4.predict(dtest)\n",
    "mean_absolute_error(y_test, y_pred)"
   ]
  },
  {
   "cell_type": "markdown",
   "metadata": {},
   "source": [
    "可以看到对挂牌价的直接拟合效果更加糟糕，这似乎说明我们所具有的这些特征对挂牌价的预测性不是很好。现在来训练另外一种模型。"
   ]
  },
  {
   "cell_type": "code",
   "execution_count": 408,
   "metadata": {},
   "outputs": [],
   "source": [
    "y = data['listed_price']\n",
    "X_train, X_test, y_train, y_test = train_test_split(X, y, test_size=0.2, random_state=0)\n",
    "ode = ce.OrdinalEncoder(cols=['decoration_rate', 'floor_height', 'binned_total_floors', 'M5W1'], mapping=[\n",
    "    dec_map, fh_map, btf_map, mw_map\n",
    "])\n",
    "X_train = ode.fit_transform(X_train)\n",
    "X_test = ode.transform(X_test)\n",
    "ohe = ce.OneHotEncoder(cols=['near_facilities', 'historical', 'ban_ta', 'house_type'])\n",
    "X_train = ohe.fit_transform(X_train)\n",
    "X_test = ohe.transform(X_test)\n",
    "te = ce.TargetEncoder(cols=['town_name'])\n",
    "te.fit(X_train, data['price_per_sqm'][X_train.index])\n",
    "X_train = te.transform(X_train)\n",
    "X_test = te.transform(X_test)\n",
    "X_train['built_year'] = pd.to_datetime(X_train['built_year']).dt.year\n",
    "X_test['built_year'] = pd.to_datetime(X_test['built_year']).dt.year"
   ]
  },
  {
   "cell_type": "code",
   "execution_count": 409,
   "metadata": {},
   "outputs": [],
   "source": [
    "from tensorflow.keras.models import Sequential\n",
    "from tensorflow.keras.layers import Dense\n",
    "from tensorflow.keras.layers import Dropout\n",
    "from tensorflow.keras.layers import BatchNormalization\n",
    "from tensorflow.keras import callbacks\n",
    "from tensorflow.keras import optimizers\n"
   ]
  },
  {
   "cell_type": "code",
   "execution_count": 410,
   "metadata": {},
   "outputs": [],
   "source": []
  },
  {
   "cell_type": "code",
   "execution_count": 426,
   "metadata": {},
   "outputs": [],
   "source": [
    "X_train, X_valid, y_train, y_valid = train_test_split(X_train, y_train, test_size=0.2, random_state=0)\n",
    "mean = X_train.mean(axis=0)\n",
    "std = X_train.std(axis=0)\n",
    "X_train -= mean\n",
    "X_train /= std\n",
    "\n",
    "X_valid -= mean\n",
    "X_valid /= std\n",
    "\n",
    "X_test -= mean\n",
    "X_test /= std"
   ]
  },
  {
   "cell_type": "code",
   "execution_count": 427,
   "metadata": {},
   "outputs": [],
   "source": [
    "rlr = callbacks.ReduceLROnPlateau(monitor='val_loss', factor=0.5, patience=5, min_lr=1e-6)\n"
   ]
  },
  {
   "cell_type": "code",
   "execution_count": 428,
   "metadata": {},
   "outputs": [],
   "source": [
    "def make_model(X_train, y_train):\n",
    "    model = Sequential()\n",
    "    \n",
    "    model.add(Dense(128, activation='relu', input_dim=X_train.shape[1]))\n",
    "    model.add(Dropout(0.3))\n",
    "    model.add(BatchNormalization())\n",
    "    \n",
    "    model.add(Dense(64, activation='relu'))\n",
    "    model.add(Dropout(0.5))\n",
    "    model.add(BatchNormalization())\n",
    "    \n",
    "    model.add(Dense(64, activation='relu'))\n",
    "    model.add(Dropout(0.5))\n",
    "    model.add(BatchNormalization())\n",
    "    \n",
    "    model.add(Dense(1))\n",
    "    \n",
    "    model.compile(optimizer='rmsprop', loss='mean_squared_logarithmic_error', metrics=['mae'])\n",
    "    return model\n",
    "    "
   ]
  },
  {
   "cell_type": "code",
   "execution_count": 429,
   "metadata": {},
   "outputs": [
    {
     "name": "stdout",
     "output_type": "stream",
     "text": [
      "WARNING:tensorflow:Falling back from v2 loop because of error: Failed to find data adapter that can handle input: <class 'pandas.core.frame.DataFrame'>, <class 'NoneType'>\n",
      "Train on 8292 samples, validate on 2074 samples\n",
      "Epoch 1/100\n",
      "8292/8292 [==============================] - 2s 189us/sample - loss: 26.2699 - mae: 590.2122 - val_loss: 18.1155 - val_mae: 578.9736\n",
      "Epoch 2/100\n",
      "8292/8292 [==============================] - 1s 141us/sample - loss: 14.6183 - mae: 581.6842 - val_loss: 10.3899 - val_mae: 567.5203\n",
      "Epoch 3/100\n",
      "8292/8292 [==============================] - 1s 136us/sample - loss: 8.1461 - mae: 565.0624 - val_loss: 6.0570 - val_mae: 545.7668\n",
      "Epoch 4/100\n",
      "8292/8292 [==============================] - 1s 132us/sample - loss: 4.8794 - mae: 539.7342 - val_loss: 3.6530 - val_mae: 515.1248\n",
      "Epoch 5/100\n",
      "8292/8292 [==============================] - 1s 132us/sample - loss: 2.9943 - mae: 506.0435 - val_loss: 2.2313 - val_mae: 476.6634\n",
      "Epoch 6/100\n",
      "8292/8292 [==============================] - 1s 149us/sample - loss: 1.8300 - mae: 464.0809 - val_loss: 1.3763 - val_mae: 432.6252\n",
      "Epoch 7/100\n",
      "8292/8292 [==============================] - 1s 157us/sample - loss: 1.1049 - mae: 414.1665 - val_loss: 0.8173 - val_mae: 380.2932\n",
      "Epoch 8/100\n",
      "8292/8292 [==============================] - 1s 134us/sample - loss: 0.6485 - mae: 357.4037 - val_loss: 0.4576 - val_mae: 317.5628\n",
      "Epoch 9/100\n",
      "8292/8292 [==============================] - 1s 135us/sample - loss: 0.3805 - mae: 299.1716 - val_loss: 0.2675 - val_mae: 262.2778\n",
      "Epoch 10/100\n",
      "8292/8292 [==============================] - 1s 136us/sample - loss: 0.2412 - mae: 251.7731 - val_loss: 0.1798 - val_mae: 225.7894\n",
      "Epoch 11/100\n",
      "8292/8292 [==============================] - 1s 134us/sample - loss: 0.1865 - mae: 227.8236 - val_loss: 0.1538 - val_mae: 213.9189\n",
      "Epoch 12/100\n",
      "8292/8292 [==============================] - 1s 134us/sample - loss: 0.1644 - mae: 216.2384 - val_loss: 0.1363 - val_mae: 204.1651\n",
      "Epoch 13/100\n",
      "8292/8292 [==============================] - 1s 136us/sample - loss: 0.1481 - mae: 207.9147 - val_loss: 0.1192 - val_mae: 192.9175\n",
      "Epoch 14/100\n",
      "8292/8292 [==============================] - 1s 141us/sample - loss: 0.1407 - mae: 200.8983 - val_loss: 0.1021 - val_mae: 181.4851\n",
      "Epoch 15/100\n",
      "8292/8292 [==============================] - 1s 135us/sample - loss: 0.1308 - mae: 195.4334 - val_loss: 0.0981 - val_mae: 177.8707\n",
      "Epoch 16/100\n",
      "8292/8292 [==============================] - 1s 136us/sample - loss: 0.1251 - mae: 193.0874 - val_loss: 0.0892 - val_mae: 171.0664\n",
      "Epoch 17/100\n",
      "8292/8292 [==============================] - 1s 148us/sample - loss: 0.1218 - mae: 188.8972 - val_loss: 0.0847 - val_mae: 165.4450\n",
      "Epoch 18/100\n",
      "8292/8292 [==============================] - 1s 156us/sample - loss: 0.1181 - mae: 187.5126 - val_loss: 0.0777 - val_mae: 159.4579\n",
      "Epoch 19/100\n",
      "8292/8292 [==============================] - 1s 166us/sample - loss: 0.1125 - mae: 185.1858 - val_loss: 0.0743 - val_mae: 154.9620\n",
      "Epoch 20/100\n",
      "8292/8292 [==============================] - 1s 151us/sample - loss: 0.1108 - mae: 183.4388 - val_loss: 0.0767 - val_mae: 154.9012\n",
      "Epoch 21/100\n",
      "8292/8292 [==============================] - 1s 136us/sample - loss: 0.1080 - mae: 180.1641 - val_loss: 0.0805 - val_mae: 156.2948\n",
      "Epoch 22/100\n",
      "8292/8292 [==============================] - 1s 141us/sample - loss: 0.1051 - mae: 179.1095 - val_loss: 0.0787 - val_mae: 153.9966\n",
      "Epoch 23/100\n",
      "8292/8292 [==============================] - 1s 148us/sample - loss: 0.1090 - mae: 180.2712 - val_loss: 0.0777 - val_mae: 153.3887\n",
      "Epoch 24/100\n",
      "8292/8292 [==============================] - 1s 132us/sample - loss: 0.1052 - mae: 177.6386 - val_loss: 0.0757 - val_mae: 150.0877\n",
      "Epoch 25/100\n",
      "8292/8292 [==============================] - 1s 135us/sample - loss: 0.0986 - mae: 174.9089 - val_loss: 0.0706 - val_mae: 146.8056\n",
      "Epoch 26/100\n",
      "8292/8292 [==============================] - 1s 137us/sample - loss: 0.0986 - mae: 173.6025 - val_loss: 0.0740 - val_mae: 150.9117\n",
      "Epoch 27/100\n",
      "8292/8292 [==============================] - 1s 151us/sample - loss: 0.1008 - mae: 175.4265 - val_loss: 0.0703 - val_mae: 147.3554\n",
      "Epoch 28/100\n",
      "8292/8292 [==============================] - 1s 132us/sample - loss: 0.0970 - mae: 174.5968 - val_loss: 0.0705 - val_mae: 147.3894\n",
      "Epoch 29/100\n",
      "8292/8292 [==============================] - 1s 136us/sample - loss: 0.0973 - mae: 172.5064 - val_loss: 0.0691 - val_mae: 146.5742\n",
      "Epoch 30/100\n",
      "8292/8292 [==============================] - 1s 137us/sample - loss: 0.1000 - mae: 174.8063 - val_loss: 0.0686 - val_mae: 145.2250\n",
      "Epoch 31/100\n",
      "8292/8292 [==============================] - 1s 151us/sample - loss: 0.0949 - mae: 172.7186 - val_loss: 0.0708 - val_mae: 147.7842\n",
      "Epoch 32/100\n",
      "8292/8292 [==============================] - 1s 134us/sample - loss: 0.0952 - mae: 171.3938 - val_loss: 0.0733 - val_mae: 149.6693\n",
      "Epoch 33/100\n",
      "8292/8292 [==============================] - 1s 143us/sample - loss: 0.0974 - mae: 174.0213 - val_loss: 0.0782 - val_mae: 152.8989\n",
      "Epoch 34/100\n",
      "8292/8292 [==============================] - 1s 143us/sample - loss: 0.1015 - mae: 172.2931 - val_loss: 0.0796 - val_mae: 152.2854\n",
      "Epoch 35/100\n",
      "8292/8292 [==============================] - 1s 140us/sample - loss: 0.0934 - mae: 172.2341 - val_loss: 0.0695 - val_mae: 145.5555\n",
      "Epoch 36/100\n",
      "8292/8292 [==============================] - 1s 135us/sample - loss: 0.0917 - mae: 169.0772 - val_loss: 0.0685 - val_mae: 142.6744\n",
      "Epoch 37/100\n",
      "8292/8292 [==============================] - 1s 141us/sample - loss: 0.0951 - mae: 170.0135 - val_loss: 0.0704 - val_mae: 146.0897\n",
      "Epoch 38/100\n",
      "8292/8292 [==============================] - 1s 147us/sample - loss: 0.0940 - mae: 170.2978 - val_loss: 0.0705 - val_mae: 145.7381\n",
      "Epoch 39/100\n",
      "8292/8292 [==============================] - 1s 139us/sample - loss: 0.0925 - mae: 169.0934 - val_loss: 0.0639 - val_mae: 139.3661\n",
      "Epoch 40/100\n",
      "8292/8292 [==============================] - 1s 133us/sample - loss: 0.0940 - mae: 170.4178 - val_loss: 0.0677 - val_mae: 143.9925\n",
      "Epoch 41/100\n",
      "8292/8292 [==============================] - 1s 132us/sample - loss: 0.0945 - mae: 171.8857 - val_loss: 0.0668 - val_mae: 141.6128\n",
      "Epoch 42/100\n",
      "8292/8292 [==============================] - 1s 137us/sample - loss: 0.0912 - mae: 169.4629 - val_loss: 0.0708 - val_mae: 146.5915\n",
      "Epoch 43/100\n",
      "8292/8292 [==============================] - 1s 139us/sample - loss: 0.0920 - mae: 169.9608 - val_loss: 0.0694 - val_mae: 144.4193\n",
      "Epoch 44/100\n",
      "8292/8292 [==============================] - 1s 139us/sample - loss: 0.0908 - mae: 169.1496 - val_loss: 0.0690 - val_mae: 145.6481\n",
      "Epoch 45/100\n",
      "8292/8292 [==============================] - 1s 134us/sample - loss: 0.0955 - mae: 173.5429 - val_loss: 0.0665 - val_mae: 142.5081\n",
      "Epoch 46/100\n",
      "8292/8292 [==============================] - 1s 134us/sample - loss: 0.0982 - mae: 172.7380 - val_loss: 0.0626 - val_mae: 139.0192\n",
      "Epoch 47/100\n",
      "8292/8292 [==============================] - 1s 144us/sample - loss: 0.0930 - mae: 168.5607 - val_loss: 0.0671 - val_mae: 144.5069\n",
      "Epoch 48/100\n",
      "8292/8292 [==============================] - 1s 136us/sample - loss: 0.0990 - mae: 171.0893 - val_loss: 0.0679 - val_mae: 145.1829\n",
      "Epoch 49/100\n",
      "8292/8292 [==============================] - 1s 140us/sample - loss: 0.0923 - mae: 169.6056 - val_loss: 0.0751 - val_mae: 150.7463\n",
      "Epoch 50/100\n",
      "8292/8292 [==============================] - 1s 135us/sample - loss: 0.0952 - mae: 171.1626 - val_loss: 0.0708 - val_mae: 147.1950\n",
      "Epoch 51/100\n",
      "8292/8292 [==============================] - 1s 136us/sample - loss: 0.0905 - mae: 169.8300 - val_loss: 0.0707 - val_mae: 146.7383\n",
      "Epoch 52/100\n",
      "8292/8292 [==============================] - 1s 139us/sample - loss: 0.0914 - mae: 168.4358 - val_loss: 0.0688 - val_mae: 145.2089\n",
      "Epoch 53/100\n",
      "8292/8292 [==============================] - 1s 139us/sample - loss: 0.0896 - mae: 168.7200 - val_loss: 0.0659 - val_mae: 142.0526\n",
      "Epoch 54/100\n",
      "8292/8292 [==============================] - 1s 154us/sample - loss: 0.0903 - mae: 168.9660 - val_loss: 0.0642 - val_mae: 140.7955\n",
      "Epoch 55/100\n",
      "8292/8292 [==============================] - 1s 151us/sample - loss: 0.0908 - mae: 169.4694 - val_loss: 0.0702 - val_mae: 146.9147\n",
      "Epoch 56/100\n",
      "8292/8292 [==============================] - 1s 128us/sample - loss: 0.0887 - mae: 165.2211 - val_loss: 0.0717 - val_mae: 147.5871\n",
      "Epoch 57/100\n",
      "8292/8292 [==============================] - 1s 134us/sample - loss: 0.0929 - mae: 170.4225 - val_loss: 0.0694 - val_mae: 146.5834\n",
      "Epoch 58/100\n",
      "8292/8292 [==============================] - 1s 130us/sample - loss: 0.0896 - mae: 168.5786 - val_loss: 0.0728 - val_mae: 149.2481\n",
      "Epoch 59/100\n",
      "8292/8292 [==============================] - 1s 152us/sample - loss: 0.0910 - mae: 170.1116 - val_loss: 0.0687 - val_mae: 145.7254\n",
      "Epoch 60/100\n",
      "8292/8292 [==============================] - 1s 149us/sample - loss: 0.0913 - mae: 169.8472 - val_loss: 0.0672 - val_mae: 143.5889\n",
      "Epoch 61/100\n",
      "8292/8292 [==============================] - 1s 144us/sample - loss: 0.0892 - mae: 167.5927 - val_loss: 0.0726 - val_mae: 149.1767\n",
      "Epoch 62/100\n",
      "8292/8292 [==============================] - 1s 127us/sample - loss: 0.0912 - mae: 169.5363 - val_loss: 0.0741 - val_mae: 150.8526\n",
      "Epoch 63/100\n",
      "8292/8292 [==============================] - 1s 129us/sample - loss: 0.0922 - mae: 169.3967 - val_loss: 0.0749 - val_mae: 151.1846\n",
      "Epoch 64/100\n",
      "8292/8292 [==============================] - 1s 148us/sample - loss: 0.0928 - mae: 169.0806 - val_loss: 0.0730 - val_mae: 149.2925\n",
      "Epoch 65/100\n",
      "8292/8292 [==============================] - 1s 150us/sample - loss: 0.0906 - mae: 169.6741 - val_loss: 0.0699 - val_mae: 148.1084\n",
      "Epoch 66/100\n",
      "8292/8292 [==============================] - 1s 136us/sample - loss: 0.0918 - mae: 170.5978 - val_loss: 0.0666 - val_mae: 143.6635\n",
      "Epoch 67/100\n",
      "8292/8292 [==============================] - 1s 139us/sample - loss: 0.0891 - mae: 167.3160 - val_loss: 0.0719 - val_mae: 148.7336\n",
      "Epoch 68/100\n",
      "8292/8292 [==============================] - 1s 141us/sample - loss: 0.0913 - mae: 169.8941 - val_loss: 0.0708 - val_mae: 147.5646\n",
      "Epoch 69/100\n",
      "8292/8292 [==============================] - 1s 146us/sample - loss: 0.0907 - mae: 168.4447 - val_loss: 0.0718 - val_mae: 147.2387\n",
      "Epoch 70/100\n",
      "8292/8292 [==============================] - 1s 148us/sample - loss: 0.0909 - mae: 169.3558 - val_loss: 0.0661 - val_mae: 143.1568\n",
      "Epoch 71/100\n",
      "8292/8292 [==============================] - 1s 136us/sample - loss: 0.0928 - mae: 169.6902 - val_loss: 0.0691 - val_mae: 145.1701\n",
      "Epoch 72/100\n",
      "8292/8292 [==============================] - 1s 135us/sample - loss: 0.0923 - mae: 167.8105 - val_loss: 0.0753 - val_mae: 151.7587\n",
      "Epoch 73/100\n",
      "8292/8292 [==============================] - 1s 155us/sample - loss: 0.0921 - mae: 169.4046 - val_loss: 0.0693 - val_mae: 145.4846\n",
      "Epoch 74/100\n",
      "8292/8292 [==============================] - 1s 131us/sample - loss: 0.0930 - mae: 171.0442 - val_loss: 0.0714 - val_mae: 147.3495\n",
      "Epoch 75/100\n",
      "8292/8292 [==============================] - 1s 136us/sample - loss: 0.0916 - mae: 169.9721 - val_loss: 0.0713 - val_mae: 146.5847\n",
      "Epoch 76/100\n",
      "8292/8292 [==============================] - 1s 143us/sample - loss: 0.0899 - mae: 168.6386 - val_loss: 0.0700 - val_mae: 145.5583\n",
      "Epoch 77/100\n",
      "8292/8292 [==============================] - 1s 145us/sample - loss: 0.0916 - mae: 170.3533 - val_loss: 0.0648 - val_mae: 141.5726\n",
      "Epoch 78/100\n",
      "8292/8292 [==============================] - 1s 135us/sample - loss: 0.0939 - mae: 168.5898 - val_loss: 0.0666 - val_mae: 143.9679\n",
      "Epoch 79/100\n",
      "8292/8292 [==============================] - 1s 148us/sample - loss: 0.0927 - mae: 169.4051 - val_loss: 0.0715 - val_mae: 148.3918\n",
      "Epoch 80/100\n",
      "8292/8292 [==============================] - 1s 170us/sample - loss: 0.0905 - mae: 168.4274 - val_loss: 0.0695 - val_mae: 145.5082\n",
      "Epoch 81/100\n",
      "8292/8292 [==============================] - 1s 142us/sample - loss: 0.0904 - mae: 168.5948 - val_loss: 0.0742 - val_mae: 151.3395\n",
      "Epoch 82/100\n",
      "8292/8292 [==============================] - 1s 132us/sample - loss: 0.0881 - mae: 166.7124 - val_loss: 0.0699 - val_mae: 146.3275\n",
      "Epoch 83/100\n",
      "8292/8292 [==============================] - 1s 129us/sample - loss: 0.0875 - mae: 166.3969 - val_loss: 0.0659 - val_mae: 143.1296\n",
      "Epoch 84/100\n",
      "8292/8292 [==============================] - 1s 131us/sample - loss: 0.0888 - mae: 166.7148 - val_loss: 0.0690 - val_mae: 146.6326\n",
      "Epoch 85/100\n",
      "8292/8292 [==============================] - 1s 133us/sample - loss: 0.0930 - mae: 172.0274 - val_loss: 0.0704 - val_mae: 147.1806\n",
      "Epoch 86/100\n",
      "8292/8292 [==============================] - 1s 132us/sample - loss: 0.0873 - mae: 167.6876 - val_loss: 0.0681 - val_mae: 145.0219\n",
      "Epoch 87/100\n",
      "8292/8292 [==============================] - 1s 133us/sample - loss: 0.0914 - mae: 168.6821 - val_loss: 0.0643 - val_mae: 141.7781\n",
      "Epoch 88/100\n",
      "8292/8292 [==============================] - 1s 137us/sample - loss: 0.0925 - mae: 169.4531 - val_loss: 0.0702 - val_mae: 146.6735\n",
      "Epoch 89/100\n",
      "8292/8292 [==============================] - 1s 130us/sample - loss: 0.0910 - mae: 169.1868 - val_loss: 0.0687 - val_mae: 146.0468\n",
      "Epoch 90/100\n",
      "8292/8292 [==============================] - 1s 130us/sample - loss: 0.0907 - mae: 169.7489 - val_loss: 0.0685 - val_mae: 145.6516\n",
      "Epoch 91/100\n",
      "8292/8292 [==============================] - 1s 131us/sample - loss: 0.0913 - mae: 170.2897 - val_loss: 0.0726 - val_mae: 149.1651\n",
      "Epoch 92/100\n",
      "8292/8292 [==============================] - 1s 131us/sample - loss: 0.0927 - mae: 170.7451 - val_loss: 0.0695 - val_mae: 145.8930\n",
      "Epoch 93/100\n",
      "8292/8292 [==============================] - 1s 133us/sample - loss: 0.0910 - mae: 170.1835 - val_loss: 0.0673 - val_mae: 143.3311\n",
      "Epoch 94/100\n",
      "8292/8292 [==============================] - 1s 131us/sample - loss: 0.0898 - mae: 168.0588 - val_loss: 0.0638 - val_mae: 141.2139\n",
      "Epoch 95/100\n",
      "8292/8292 [==============================] - 1s 130us/sample - loss: 0.0927 - mae: 171.9668 - val_loss: 0.0674 - val_mae: 144.6615\n",
      "Epoch 96/100\n",
      "8292/8292 [==============================] - 1s 142us/sample - loss: 0.0883 - mae: 166.5193 - val_loss: 0.0713 - val_mae: 147.9355\n",
      "Epoch 97/100\n",
      "8292/8292 [==============================] - 1s 162us/sample - loss: 0.0912 - mae: 169.9218 - val_loss: 0.0729 - val_mae: 148.8343\n",
      "Epoch 98/100\n",
      "8292/8292 [==============================] - 1s 156us/sample - loss: 0.0899 - mae: 167.2655 - val_loss: 0.0755 - val_mae: 151.1918\n",
      "Epoch 99/100\n",
      "8292/8292 [==============================] - 1s 157us/sample - loss: 0.0912 - mae: 170.0056 - val_loss: 0.0897 - val_mae: 144.0383\n",
      "Epoch 100/100\n",
      "8292/8292 [==============================] - 1s 144us/sample - loss: 0.0942 - mae: 173.3428 - val_loss: 0.0703 - val_mae: 147.2696\n"
     ]
    },
    {
     "data": {
      "text/plain": [
       "<tensorflow.python.keras.callbacks.History at 0x7f1d1cd1af50>"
      ]
     },
     "execution_count": 429,
     "metadata": {},
     "output_type": "execute_result"
    }
   ],
   "source": [
    "model = make_model(X_train, y_train)\n",
    "model.fit(X_train, y_train, batch_size=32, validation_data=(X_valid, y_valid),\n",
    "          verbose=1, callbacks=[rlr], epochs=100)"
   ]
  },
  {
   "cell_type": "code",
   "execution_count": 430,
   "metadata": {},
   "outputs": [
    {
     "name": "stdout",
     "output_type": "stream",
     "text": [
      "WARNING:tensorflow:Falling back from v2 loop because of error: Failed to find data adapter that can handle input: <class 'pandas.core.frame.DataFrame'>, <class 'NoneType'>\n"
     ]
    },
    {
     "data": {
      "text/plain": [
       "164.0589158715142"
      ]
     },
     "execution_count": 430,
     "metadata": {},
     "output_type": "execute_result"
    }
   ],
   "source": [
    "y_pred = model.predict(X_test)\n",
    "mean_absolute_error(y_test, y_pred)"
   ]
  },
  {
   "cell_type": "markdown",
   "metadata": {},
   "source": [
    "我们的深度模型则表现的比之前的所有xgboost 模型都要差很多， 或许是因为训练样本太少了。"
   ]
  },
  {
   "cell_type": "code",
   "execution_count": null,
   "metadata": {},
   "outputs": [],
   "source": []
  }
 ],
 "metadata": {
  "kernelspec": {
   "display_name": "Python 3",
   "language": "python",
   "name": "python3"
  },
  "language_info": {
   "codemirror_mode": {
    "name": "ipython",
    "version": 3
   },
   "file_extension": ".py",
   "mimetype": "text/x-python",
   "name": "python",
   "nbconvert_exporter": "python",
   "pygments_lexer": "ipython3",
   "version": "3.7.4"
  }
 },
 "nbformat": 4,
 "nbformat_minor": 2
}
